{
 "cells": [
  {
   "cell_type": "markdown",
   "metadata": {},
   "source": [
    "## An Object-Oriented Chatbot in Google Colab\n",
    "\n",
    "This notebook contains the preparations needed to get the notebook **chatbot_client.jpynb** running in Google Colab.\n",
    "- You need a Google and Github account. Be prepared to authenticate yourself with both of these accounts.\n",
    "- Once this notebook is open in Google Colab, execute the cells below.\n",
    "- Open the notebook **chatbot_client.jpynb** in Google Colab and follow the instructions in that notebook.\n",
    "- If you plan to deploy chatbots at pythonanywhere, follow the instructions in the file **pythonanywhere.txt**."
   ]
  },
  {
   "cell_type": "code",
   "execution_count": null,
   "metadata": {},
   "outputs": [],
   "source": [
    "from google.colab import drive\n",
    "drive.mount('/content/drive')"
   ]
  },
  {
   "cell_type": "code",
   "execution_count": null,
   "metadata": {},
   "outputs": [],
   "source": [
    "!git clone https://github.com/zhaw-iwi/singlestate_conversations.git\n",
    "%cd singlestate_conversations/"
   ]
  },
  {
   "cell_type": "code",
   "execution_count": null,
   "metadata": {},
   "outputs": [],
   "source": [
    "!pip install openai"
   ]
  }
 ],
 "metadata": {
  "language_info": {
   "name": "python"
  },
  "orig_nbformat": 4
 },
 "nbformat": 4,
 "nbformat_minor": 2
}
