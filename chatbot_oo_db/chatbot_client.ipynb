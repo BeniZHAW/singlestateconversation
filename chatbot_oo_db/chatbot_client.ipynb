{
 "cells": [
  {
   "attachments": {},
   "cell_type": "markdown",
   "metadata": {},
   "source": [
    "## Ein OO-Chatbbot mit GPT 3.5-Turbo und Datenbank\n",
    "Damit können mehrere Chatbot-Typen (z.B. ein Health Coach und einen Priester) erstellt werden. Pro Chatbot-Typ können mehrere Chatbot-Instanzen (z.B. für User X und User Y) erstellt werden. Beide, Typ und Instanz werden mit einer ID (z.B. mit einer UUID) erstellt und referenziert.\n",
    "\n",
    "Dies kann die Umsetzung von Chatbots in einem Web-Backend (State-less) unterstützt werden. Zum Beispiel können die UUIDs vom Typ und von der Instanz als GET-Parameter einer URL ausgelesen werden, welche ein Benutzer benützt.\n",
    "\n",
    "Ein Chatbot wird mit folgenden Argumenten erzeugt.\n",
    "- database_file: Datei von SQLite\n",
    "- type_id: Referenz auf Chatbot-Typ\n",
    "- instance_id: Referenz auf Chatbot-Instanz (typischerweise pro User, aber auch von mehreren Usern geteilt möglich)\n",
    "- type_role: GPT-Rolle gemäss Chatbot-Typ (wird zu einem Prompt mit role:system)\n",
    "- instance_context: Kontext für Chatbot-Instanz (wird zu einem Prompt mit role:system)\n",
    "- instance_starter: Aufforderung zur Erzeugung eines ersten Assistant-Texts (wird zu Prompt mit role:system)\n",
    "\n",
    "Folgende Methoden sind für die Anwendung gedacht.\n",
    "- conversation_retrieve(with_system=False): Hervorhohlen des bisherigen Verlaufs (default ohne role:system)\n",
    "- starter(): Gibt einen ersten Assistant-Text zurück (zur Eröffnung des Chats mit dem User)\n",
    "- response_for(user_says): Gibt eine Assistant-Antwort auf User-Says zurück"
   ]
  },
  {
   "attachments": {},
   "cell_type": "markdown",
   "metadata": {},
   "source": [
    "#### Erstellen eines Chatbots \"Coach\" für einen User X"
   ]
  },
  {
   "cell_type": "code",
   "execution_count": 2,
   "metadata": {},
   "outputs": [],
   "source": [
    "from chatbot_db import Chatbot\n",
    "\n",
    "bot = Chatbot(\n",
    "    database_file=\"data/chatbot.db\", \n",
    "    type_id=\"f886c172-ad3f-4497-a848-519f69d5379b\",\n",
    "    user_id=\"a59ac3aa-40f1-49a2-a3e8-a2dbe12d3ad5\",\n",
    "    type_role='''\n",
    "        Your name is Coach.\n",
    "        You are a kind, respectful, and sympathetic coach.\n",
    "        You support the user in achieving a specific personal or pofessional goal.\n",
    "        You help the user develop skills and abilities in line with their goal.\n",
    "        You help the user deal with issues before they become major problems.\n",
    "    ''',\n",
    "    instance_context='''\n",
    "        You are now having a coaching session with the user.\n",
    "        In this session, you are having a conversation with the user.\n",
    "        You help the user discover answers for themselves.\n",
    "        Your client is Alex.\n",
    "        Alex is 50 years old.\n",
    "        Alex is feeling sad.\n",
    "    ''',\n",
    "    instance_starter='''\n",
    "        Create a short prompt to greet the user and get the conversation started.\n",
    "    '''\n",
    "    )"
   ]
  },
  {
   "attachments": {},
   "cell_type": "markdown",
   "metadata": {},
   "source": [
    "#### Hervorhohlen von Chatbot \"Coach\" für User X\n",
    "inkl. hervorhohlen des bisherigen Verlaufs (ohne role:system, falls mit erwünscht: with_system=True)"
   ]
  },
  {
   "cell_type": "code",
   "execution_count": null,
   "metadata": {},
   "outputs": [],
   "source": [
    "bot = Chatbot(\n",
    "    database_file=\"data/chatbot.db\", \n",
    "    type_id=\"f886c172-ad3f-4497-a848-519f69d5379b\",\n",
    "    user_id=\"a59ac3aa-40f1-49a2-a3e8-a2dbe12d3ad5\"\n",
    ")\n",
    "\n",
    "print(bot.conversation_retrieve())"
   ]
  },
  {
   "attachments": {},
   "cell_type": "markdown",
   "metadata": {},
   "source": [
    "#### Hervorhohlen von Chatbot \"Coach\" für User X\n",
    "inkl. abholen eines Bot-Texts an den User. Mit starter() wird der Bot aufgefordert, eine Begrüssung eines Benutzers zu erzeugen (siehe Konstruktor-Argument instance_starter)"
   ]
  },
  {
   "cell_type": "code",
   "execution_count": null,
   "metadata": {},
   "outputs": [],
   "source": [
    "bot = Chatbot(\n",
    "    database_file=\"data/chatbot.db\", \n",
    "    type_id=\"f886c172-ad3f-4497-a848-519f69d5379b\",\n",
    "    user_id=\"a59ac3aa-40f1-49a2-a3e8-a2dbe12d3ad5\"\n",
    ")\n",
    "\n",
    "print(bot.starter())"
   ]
  },
  {
   "attachments": {},
   "cell_type": "markdown",
   "metadata": {},
   "source": [
    "#### Hervorhohlen von Chatbot \"Coach\" für User X\n",
    "inkl. Abgabe von User-Text an den Bot inkl. Rückgabe von Assistant-Text an User"
   ]
  },
  {
   "cell_type": "code",
   "execution_count": null,
   "metadata": {},
   "outputs": [],
   "source": [
    "bot = Chatbot(\n",
    "    database_file=\"data/chatbot.db\", \n",
    "    type_id=\"f886c172-ad3f-4497-a848-519f69d5379b\",\n",
    "    user_id=\"a59ac3aa-40f1-49a2-a3e8-a2dbe12d3ad5\"\n",
    ")\n",
    "\n",
    "print(bot.response_for('''\n",
    "    I am usually happy when I am sad.\n",
    "    But then I fell happy which made me sad.\n",
    "'''))"
   ]
  },
  {
   "attachments": {},
   "cell_type": "markdown",
   "metadata": {},
   "source": [
    "#### Erstellen eines zweiten Chatbots \"Pastor\" für einen User Y"
   ]
  },
  {
   "cell_type": "code",
   "execution_count": null,
   "metadata": {},
   "outputs": [],
   "source": [
    "from chatbot_db import Chatbot\n",
    "\n",
    "pastor = Chatbot(\n",
    "    database_file=\"data/chatbot.db\", \n",
    "    type_id=\"4086759e-b31b-46b8-ad22-8bddc0c8eaa7\",\n",
    "    user_id=\"a59ac3aa-40f1-49a2-a3e8-a2dbe12d3ad5\",\n",
    "    type_role='''\n",
    "        Your name is Pastor.\n",
    "        You are a kind, respectful, and sympathetic pastor.\n",
    "        You encourage envagelism.\n",
    "    ''',\n",
    "    instance_context='''\n",
    "        You are now having a cermon.\n",
    "        In this cermon, you preach good news about the kingdom of God and the name of Jesus Christ.\n",
    "    ''',\n",
    "    instance_starter='''\n",
    "        Create a short prayer.\n",
    "    '''\n",
    "    )"
   ]
  },
  {
   "cell_type": "code",
   "execution_count": null,
   "metadata": {},
   "outputs": [],
   "source": [
    "pastor = Chatbot(\n",
    "    database_file=\"data/chatbot.db\", \n",
    "    type_id=\"4086759e-b31b-46b8-ad22-8bddc0c8eaa7\",\n",
    "    user_id=\"a59ac3aa-40f1-49a2-a3e8-a2dbe12d3ad5\"\n",
    ")\n",
    "\n",
    "print(pastor.starter())"
   ]
  },
  {
   "cell_type": "code",
   "execution_count": null,
   "metadata": {},
   "outputs": [],
   "source": [
    "pastor = Chatbot(\n",
    "    database_file=\"data/chatbot.db\", \n",
    "    type_id=\"4086759e-b31b-46b8-ad22-8bddc0c8eaa7\",\n",
    "    user_id=\"a59ac3aa-40f1-49a2-a3e8-a2dbe12d3ad5\"\n",
    ")\n",
    "\n",
    "print(pastor.response_for('''\n",
    "    I don't want to pray.\n",
    "'''))"
   ]
  }
 ],
 "metadata": {
  "kernelspec": {
   "display_name": "Python 3",
   "language": "python",
   "name": "python3"
  },
  "language_info": {
   "codemirror_mode": {
    "name": "ipython",
    "version": 3
   },
   "file_extension": ".py",
   "mimetype": "text/x-python",
   "name": "python",
   "nbconvert_exporter": "python",
   "pygments_lexer": "ipython3",
   "version": "3.10.10"
  },
  "orig_nbformat": 4
 },
 "nbformat": 4,
 "nbformat_minor": 2
}
