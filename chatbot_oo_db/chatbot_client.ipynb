{
 "cells": [
  {
   "attachments": {},
   "cell_type": "markdown",
   "metadata": {},
   "source": [
    "### Erstmaliges Erstellen eines Chatbots \"Coach\" für einen User X"
   ]
  },
  {
   "cell_type": "code",
   "execution_count": null,
   "metadata": {},
   "outputs": [],
   "source": [
    "from chatbot_db import Chatbot\n",
    "\n",
    "bot = Chatbot(\n",
    "    database_file=\"data/chatbot.db\", \n",
    "    type_id=\"f886c172-ad3f-4497-a848-519f69d5379b\",\n",
    "    user_id=\"a59ac3aa-40f1-49a2-a3e8-a2dbe12d3ad5\",\n",
    "    type_role='''\n",
    "        Your name is Coach.\n",
    "        You are a kind, respectful, and sympathetic coach.\n",
    "        You support the user in achieving a specific personal or pofessional goal.\n",
    "        You help the user develop skills and abilities in line with their goal.\n",
    "        You help the user deal with issues before they become major problems.\n",
    "    ''',\n",
    "    instance_context='''\n",
    "        You are now having a coaching session with the user.\n",
    "        In this session, you are having a conversation with the user.\n",
    "        You help the user discover answers for themselves.\n",
    "        Your client is Alex.\n",
    "        Alex is 50 years old.\n",
    "        Alex is feeling sad.\n",
    "    ''',\n",
    "    instance_starter='''\n",
    "        Create a short prompt to greet the user and get the conversation started.\n",
    "    '''\n",
    "    )\n",
    "\n",
    "print(bot.conversation_retrieve())"
   ]
  },
  {
   "cell_type": "markdown",
   "metadata": {},
   "source": [
    "#### Hervorhohlen von Chatbot \"Coach\" für User X und hervorhohlen des bisherigen Verlaufs (inkl. System TODO?)"
   ]
  },
  {
   "cell_type": "code",
   "execution_count": null,
   "metadata": {},
   "outputs": [],
   "source": [
    "bot = Chatbot(\n",
    "    database_file=\"data/chatbot.db\", \n",
    "    type_id=\"f886c172-ad3f-4497-a848-519f69d5379b\",\n",
    "    user_id=\"a59ac3aa-40f1-49a2-a3e8-a2dbe12d3ad5\"\n",
    ")\n",
    "\n",
    "print(bot.conversation_retrieve(with_system=True))"
   ]
  },
  {
   "attachments": {},
   "cell_type": "markdown",
   "metadata": {},
   "source": [
    "#### Hervorhohlen von Chatbot \"Coach\" für User X und abholen eines Bot-Texts an den User"
   ]
  },
  {
   "cell_type": "code",
   "execution_count": null,
   "metadata": {},
   "outputs": [],
   "source": [
    "bot = Chatbot(\n",
    "    database_file=\"data/chatbot.db\", \n",
    "    type_id=\"f886c172-ad3f-4497-a848-519f69d5379b\",\n",
    "    user_id=\"a59ac3aa-40f1-49a2-a3e8-a2dbe12d3ad5\"\n",
    ")\n",
    "\n",
    "print(bot.starter())"
   ]
  },
  {
   "attachments": {},
   "cell_type": "markdown",
   "metadata": {},
   "source": [
    "#### Hervorhohlen von Chatbot \"Coach\" für User X und abgabe von User-Text an den Bot inkl. Rückgabe von Bot-Text an User"
   ]
  },
  {
   "cell_type": "code",
   "execution_count": null,
   "metadata": {},
   "outputs": [],
   "source": [
    "bot = Chatbot(\n",
    "    database_file=\"data/chatbot.db\", \n",
    "    type_id=\"f886c172-ad3f-4497-a848-519f69d5379b\",\n",
    "    user_id=\"a59ac3aa-40f1-49a2-a3e8-a2dbe12d3ad5\"\n",
    ")\n",
    "\n",
    "bot.response_for('''\n",
    "    I am usually happy when I am sad.\n",
    "    But then I fell happy which made me sad.\n",
    "''')"
   ]
  },
  {
   "attachments": {},
   "cell_type": "markdown",
   "metadata": {},
   "source": [
    "#### Hervorhohlen von Chatbo \"Coach\" für User X und abholen eines Bot-Texts an den User"
   ]
  },
  {
   "cell_type": "code",
   "execution_count": null,
   "metadata": {},
   "outputs": [],
   "source": [
    "bot = Chatbot(\n",
    "    database_file=\"data/chatbot.db\", \n",
    "    type_id=\"f886c172-ad3f-4497-a848-519f69d5379b\",\n",
    "    user_id=\"a59ac3aa-40f1-49a2-a3e8-a2dbe12d3ad5\"\n",
    ")\n",
    "\n",
    "print(bot.starter())"
   ]
  },
  {
   "attachments": {},
   "cell_type": "markdown",
   "metadata": {},
   "source": [
    "### Erstmaliges Erstellen eines Chatbots \"Pastor\" für einen User Y"
   ]
  },
  {
   "cell_type": "code",
   "execution_count": null,
   "metadata": {},
   "outputs": [],
   "source": [
    "from chatbot_db import Chatbot\n",
    "\n",
    "pastor = Chatbot(\n",
    "    database_file=\"data/chatbot.db\", \n",
    "    type_id=\"4086759e-b31b-46b8-ad22-8bddc0c8eaa7\",\n",
    "    user_id=\"a59ac3aa-40f1-49a2-a3e8-a2dbe12d3ad5\",\n",
    "    type_role='''\n",
    "        Your name is Pastor.\n",
    "        You are a kind, respectful, and sympathetic pastor.\n",
    "        You encourage envagelism.\n",
    "    ''',\n",
    "    instance_context='''\n",
    "        You are now having a cermon.\n",
    "        In this cermon, you preach good news about the kingdom of God and the name of Jesus Christ.\n",
    "    ''',\n",
    "    instance_starter='''\n",
    "        Create a short prayer.\n",
    "    '''\n",
    "    )\n",
    "\n",
    "print(pastor.conversation_retrieve())"
   ]
  },
  {
   "cell_type": "code",
   "execution_count": null,
   "metadata": {},
   "outputs": [],
   "source": [
    "print(pastor.conversation_retrieve())"
   ]
  },
  {
   "cell_type": "code",
   "execution_count": null,
   "metadata": {},
   "outputs": [],
   "source": [
    "pastor = Chatbot(\n",
    "    database_file=\"data/chatbot.db\", \n",
    "    type_id=\"4086759e-b31b-46b8-ad22-8bddc0c8eaa7\",\n",
    "    user_id=\"a59ac3aa-40f1-49a2-a3e8-a2dbe12d3ad5\"\n",
    ")\n",
    "\n",
    "print(pastor.starter())"
   ]
  },
  {
   "cell_type": "code",
   "execution_count": null,
   "metadata": {},
   "outputs": [],
   "source": [
    "pastor = Chatbot(\n",
    "    database_file=\"data/chatbot.db\", \n",
    "    type_id=\"4086759e-b31b-46b8-ad22-8bddc0c8eaa7\",\n",
    "    user_id=\"a59ac3aa-40f1-49a2-a3e8-a2dbe12d3ad5\"\n",
    ")\n",
    "\n",
    "pastor.response_for('''\n",
    "    I don't want to pray.\n",
    "''')"
   ]
  }
 ],
 "metadata": {
  "kernelspec": {
   "display_name": "Python 3",
   "language": "python",
   "name": "python3"
  },
  "language_info": {
   "codemirror_mode": {
    "name": "ipython",
    "version": 3
   },
   "file_extension": ".py",
   "mimetype": "text/x-python",
   "name": "python",
   "nbconvert_exporter": "python",
   "pygments_lexer": "ipython3",
   "version": "3.10.10"
  },
  "orig_nbformat": 4
 },
 "nbformat": 4,
 "nbformat_minor": 2
}
