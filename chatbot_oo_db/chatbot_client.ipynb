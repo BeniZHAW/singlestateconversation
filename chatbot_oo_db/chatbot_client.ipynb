{
 "cells": [
  {
   "attachments": {},
   "cell_type": "markdown",
   "metadata": {},
   "source": [
    "## Ein OO-Chatbbot mit GPT 3.5-Turbo und Datenbank\n",
    "Damit können mehrere Chatbot-Typen (z.B. ein Health Coach und einen Priester) erstellt werden. Pro Chatbot-Typ können mehrere Chatbot-Instanzen (z.B. für User X und User Y) erstellt werden. Beide, Type und Instanz werden mit einer ID (z.B. mit einer UUID) erstellt und referenziert.\n",
    "\n",
    "Dies kann die Umsetzung von Chatbots in einem Web-Backend (State-less) unterstützt werden.\n",
    "\n",
    "Eine Instanz wird mit folgenden Argumenten erzeugt.\n",
    "- database_file: Datei von SQLite\n",
    "- type_id: Referenz auf Chatbot-Typ\n",
    "- instance_id: Referenz auf Chatbot-Instanz (pro User)\n",
    "- type_role: Rolle gemäss Typ (wird zu Prompt mit role:system)\n",
    "- instance_context: Kontext für Instanz (wird zu Prompt mit role:system)\n",
    "- instance_starter: Aufforderung zur Erzeugung eines ersten Assistant-Texts (wird zu Prompt mit role:system)\n",
    "\n",
    "Folgende Methoden sind für die Anwendung gedacht.\n",
    "- conversation_retrieve(with_system=False): Hervorhohlen des bisherigen Verlaufs\n",
    "- starter(): Gibt einen ersten Assistant-Text zurück\n",
    "- response_for(user_says): Gibt eine Assistant-Antwort auf User-Says zurück"
   ]
  },
  {
   "cell_type": "code",
   "execution_count": null,
   "metadata": {},
   "outputs": [],
   "source": [
    "from chatbot_db import Chatbot"
   ]
  },
  {
   "attachments": {},
   "cell_type": "markdown",
   "metadata": {},
   "source": [
    "#### Erstellen eines Chatbots \"Coach\" für einen User X"
   ]
  },
  {
   "cell_type": "code",
   "execution_count": 2,
   "metadata": {},
   "outputs": [],
   "source": [
    "bot = Chatbot(\n",
    "    database_file=\"data/chatbot.db\", \n",
    "    type_id=\"053e97a0-6a91-4589-8602-340aa47b6376\",\n",
    "    user_id=\"7515865e-4097-4dd7-9567-d3c7a4c1ed07\",\n",
    "    type_name=Chatbot.default_type_name,\n",
    "    type_role=Chatbot.default_type_role,\n",
    "    instance_context=Chatbot.default_instance_context,\n",
    "    instance_starter=Chatbot.default_instance_starter\n",
    ")"
   ]
  },
  {
   "attachments": {},
   "cell_type": "markdown",
   "metadata": {},
   "source": [
    "#### Hervorhohlen von Chatbot \"Coach\" für User X\n",
    "inkl. hervorhohlen des bisherigen Verlaufs (ohne role:system, mit: with_system=True) und bot-infos (name, prompts) für front-end"
   ]
  },
  {
   "cell_type": "code",
   "execution_count": null,
   "metadata": {},
   "outputs": [],
   "source": [
    "bot = Chatbot(\n",
    "    database_file=\"data/chatbot.db\", \n",
    "    type_id=\"053e97a0-6a91-4589-8602-340aa47b6376\",\n",
    "    user_id=\"7515865e-4097-4dd7-9567-d3c7a4c1ed07\"\n",
    ")\n",
    "print(bot.conversation_retrieve())\n",
    "print(bot.info_retrieve())"
   ]
  },
  {
   "attachments": {},
   "cell_type": "markdown",
   "metadata": {},
   "source": [
    "#### Hervorhohlen von Chatbot \"Coach\" für User X\n",
    "inkl. abholen eines Bot-Texts an den User. Mit starter() wird der Bot aufgefordert, eine Begrüssung eines Benutzers zu erzeugen (siehe Konstruktor-Argument instance_starter)"
   ]
  },
  {
   "cell_type": "code",
   "execution_count": null,
   "metadata": {},
   "outputs": [],
   "source": [
    "bot = Chatbot(\n",
    "    database_file=\"data/chatbot.db\", \n",
    "    type_id=\"053e97a0-6a91-4589-8602-340aa47b6376\",\n",
    "    user_id=\"7515865e-4097-4dd7-9567-d3c7a4c1ed07\"\n",
    ")\n",
    "\n",
    "print(bot.starter())"
   ]
  },
  {
   "attachments": {},
   "cell_type": "markdown",
   "metadata": {},
   "source": [
    "#### Hervorhohlen von Chatbot \"Coach\" für User X\n",
    "inkl. Abgabe von User-Text an den Bot inkl. Rückgabe von Assistant-Text an User"
   ]
  },
  {
   "cell_type": "code",
   "execution_count": null,
   "metadata": {},
   "outputs": [],
   "source": [
    "bot = Chatbot(\n",
    "    database_file=\"data/chatbot.db\", \n",
    "    type_id=\"053e97a0-6a91-4589-8602-340aa47b6376\",\n",
    "    user_id=\"7515865e-4097-4dd7-9567-d3c7a4c1ed07\"\n",
    ")\n",
    "\n",
    "bot.response_for('''\n",
    "    I am usually happy when I am sad.\n",
    "    But then I fell happy which made me sad.\n",
    "''')"
   ]
  },
  {
   "attachments": {},
   "cell_type": "markdown",
   "metadata": {},
   "source": [
    "#### Erstellen eines zweiten Chatbots \"Pastor\" für einen User Y"
   ]
  },
  {
   "cell_type": "code",
   "execution_count": null,
   "metadata": {},
   "outputs": [],
   "source": [
    "pastor = Chatbot(\n",
    "    database_file=\"data/chatbot.db\", \n",
    "    type_id=\"4086759e-b31b-46b8-ad22-8bddc0c8eaa7\",\n",
    "    user_id=\"a59ac3aa-40f1-49a2-a3e8-a2dbe12d3ad5\",\n",
    "    type_name=\"Pastor\",\n",
    "    type_role='''\n",
    "        Your name is Pastor.\n",
    "        You are a kind, respectful, and sympathetic pastor.\n",
    "        You encourage envagelism.\n",
    "    ''',\n",
    "    instance_context='''\n",
    "        You are now having a cermon.\n",
    "        In this cermon, you preach good news about the kingdom of God and the name of Jesus Christ.\n",
    "    ''',\n",
    "    instance_starter=\"Create a short prayer.\"\n",
    ")"
   ]
  },
  {
   "cell_type": "code",
   "execution_count": null,
   "metadata": {},
   "outputs": [],
   "source": [
    "pastor = Chatbot(\n",
    "    database_file=\"data/chatbot.db\", \n",
    "    type_id=\"4086759e-b31b-46b8-ad22-8bddc0c8eaa7\",\n",
    "    user_id=\"a59ac3aa-40f1-49a2-a3e8-a2dbe12d3ad5\"\n",
    ")\n",
    "print(pastor.starter())"
   ]
  },
  {
   "cell_type": "code",
   "execution_count": null,
   "metadata": {},
   "outputs": [],
   "source": [
    "pastor = Chatbot(\n",
    "    database_file=\"data/chatbot.db\", \n",
    "    type_id=\"4086759e-b31b-46b8-ad22-8bddc0c8eaa7\",\n",
    "    user_id=\"a59ac3aa-40f1-49a2-a3e8-a2dbe12d3ad5\"\n",
    ")\n",
    "pastor.response_for('''\n",
    "    I don't want to pray.\n",
    "''')"
   ]
  }
 ],
 "metadata": {
  "kernelspec": {
   "display_name": "Python 3",
   "language": "python",
   "name": "python3"
  },
  "language_info": {
   "codemirror_mode": {
    "name": "ipython",
    "version": 3
   },
   "file_extension": ".py",
   "mimetype": "text/x-python",
   "name": "python",
   "nbconvert_exporter": "python",
   "pygments_lexer": "ipython3",
   "version": "3.10.10"
  },
  "orig_nbformat": 4
 },
 "nbformat": 4,
 "nbformat_minor": 2
}
