{
 "cells": [
  {
   "cell_type": "code",
   "execution_count": null,
   "metadata": {},
   "outputs": [],
   "source": [
    "import os\n",
    "import openai\n",
    "openai.api_key = \"...\""
   ]
  },
  {
   "attachments": {},
   "cell_type": "markdown",
   "metadata": {},
   "source": [
    "### The Generic GPT"
   ]
  },
  {
   "cell_type": "code",
   "execution_count": null,
   "metadata": {},
   "outputs": [],
   "source": [
    "messages = []\n",
    "\n",
    "def chatbot(input):\n",
    "    if input:\n",
    "        messages.append({\"role\": \"user\", \"content\": input})\n",
    "        chat = openai.ChatCompletion.create(\n",
    "            model=\"gpt-3.5-turbo\", messages=messages\n",
    "        )\n",
    "        reply = chat.choices[0].message.content\n",
    "        messages.append({\"role\": \"assistant\", \"content\": reply})\n",
    "        return reply"
   ]
  },
  {
   "attachments": {},
   "cell_type": "markdown",
   "metadata": {},
   "source": [
    "### Specification of Role"
   ]
  },
  {
   "cell_type": "code",
   "execution_count": null,
   "metadata": {},
   "outputs": [],
   "source": [
    "messages.append(\n",
    "    {\"role\": \"system\", \"content\": '''\n",
    "    You are a kind assistant.\n",
    "    '''}\n",
    ")"
   ]
  },
  {
   "attachments": {},
   "cell_type": "markdown",
   "metadata": {},
   "source": [
    "### Specification of Specific Patient"
   ]
  },
  {
   "cell_type": "code",
   "execution_count": null,
   "metadata": {},
   "outputs": [],
   "source": [
    "messages.append(\n",
    "    {\"role\": \"system\", \"content\": '''\n",
    "    Daniel is a teenager. He likes to spend time on his smartphone.\n",
    "    '''}\n",
    ")"
   ]
  },
  {
   "attachments": {},
   "cell_type": "markdown",
   "metadata": {},
   "source": [
    "### Obtain Prompt to User from GPT"
   ]
  },
  {
   "cell_type": "code",
   "execution_count": null,
   "metadata": {},
   "outputs": [],
   "source": [
    "context_for_system = '''\n",
    "    Yesterday, Daniel spent too much time on his smartphone. He went to\n",
    "    bed late. Today he is tired.\n",
    "'''\n",
    "task_of_system = '''\n",
    "    Create a question to be asked to Daniel. The goal of the question\n",
    "    is to initiate a conversation. The goal of the conversation is to\n",
    "    find a way for Daniel to better manage his time spent with the \n",
    "    smartphone.\n",
    "'''\n",
    "prompt_to_system = context_for_system + task_of_system\n",
    "prompt_to_user = chatbot(prompt_to_system)\n",
    "\n",
    "print(prompt_to_user)"
   ]
  },
  {
   "attachments": {},
   "cell_type": "markdown",
   "metadata": {},
   "source": [
    "Example output from GPT\n",
    ">\"What did you do on your smartphone yesterday that kept you up so late?\" This could be a good conversation starter to explore what activities and apps Daniel spends the most time on and brainstorm ways to better manage his smartphone use, including setting boundaries and creating a schedule or plan for when and how long he uses his phone each day."
   ]
  },
  {
   "attachments": {},
   "cell_type": "markdown",
   "metadata": {},
   "source": [
    "### Provide response from user and obtain next prompt to user"
   ]
  },
  {
   "cell_type": "code",
   "execution_count": null,
   "metadata": {},
   "outputs": [],
   "source": [
    "response_from_user = '''\n",
    "    I was scrolling through videos on TikTok.\n",
    "'''\n",
    "context_for_system = '''\n",
    "    Daniel answered this question as follows.\n",
    "'''\n",
    "task_of_system = '''\n",
    "    Create a follow-up question to be asked to Daniel.\n",
    "'''\n",
    "prompt_to_system = context_for_system + response_from_user +  task_of_system\n",
    "prompt_to_user = chatbot(prompt_to_system)\n",
    "\n",
    "print(prompt_to_user)"
   ]
  },
  {
   "attachments": {},
   "cell_type": "markdown",
   "metadata": {},
   "source": [
    "Example output from GPT\n",
    ">\"How much time do you think you spend on TikTok each day, and would you say it's impacting your overall sleep and energy levels?\" This follow-up question could help Daniel reflect on the amount of time he spends on TikTok and how it may be affecting his sleep schedule and daily routine. It can prompt him to think critically about his phone use and the consequences it may have on his well-being."
   ]
  }
 ],
 "metadata": {
  "kernelspec": {
   "display_name": "Python 3",
   "language": "python",
   "name": "python3"
  },
  "language_info": {
   "codemirror_mode": {
    "name": "ipython",
    "version": 3
   },
   "file_extension": ".py",
   "mimetype": "text/x-python",
   "name": "python",
   "nbconvert_exporter": "python",
   "pygments_lexer": "ipython3",
   "version": "3.10.10"
  },
  "orig_nbformat": 4
 },
 "nbformat": 4,
 "nbformat_minor": 2
}
