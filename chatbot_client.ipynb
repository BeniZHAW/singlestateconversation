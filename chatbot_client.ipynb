{
 "cells": [
  {
   "attachments": {},
   "cell_type": "markdown",
   "metadata": {},
   "source": [
    "## A Chatbot using GPT and a Database\n",
    "This allows multiple chatbot types (e.g. a health coach and a learning assistant) to be created. Multiple chatbot instances can be created per chatbot type (e.g. for User X and User Y). Both, type and instance are stored and referenced with an ID (e.g. with a UUID) in the database.\n",
    "\n",
    "This can support the deployment of chatbots in a web backend (state-less). For example, the UUIDs of the type and instance can be read as URL parameters from a URL that users have received from you.\n",
    "\n",
    "A chatbot is created with the following arguments.\n",
    "- database_file: File of SQLite (in Folder data/)\n",
    "- type_id: Reference to chatbot type\n",
    "- instance_id: Reference to chatbot instance (typically one per user - however, may also be shared by multiple users)\n",
    "- type_role: Role of chatbot type (will be turned into a first prompt with role:system)\n",
    "- instance_context: Context of chatbot instance (will be turned into a second prompt with role:system)\n",
    "- instance_starter: Will be used to generate an initial message to the user (will be turned into a final prompt with role:system)\n",
    "\n",
    "The following functions are meant to be used from an application (e.g. from controllers of a REST API).\n",
    "- conversation_retrieve(with_system=False): Retrieve the previous conversation history (default: without prompts with role:system)\n",
    "- start(): Returns an initial message to the user (Resulting from instance_starter prompt)\n",
    "- respond(user_says): Returns an assistance response to user_says\n",
    "- info_retrieve(): Returns the chatbot name, type role and instance context\n",
    "- reset(): Resets the conversation so far"
   ]
  },
  {
   "cell_type": "markdown",
   "metadata": {},
   "source": [
    "#### OpenAI API Key and Model\n",
    "\n",
    "Create file chatbot/openai.py with the following content\\\n",
    "    OPENAI_KEY = \"your OpenAI API key\"\\\n",
    "    OPENAI_MODEL = \"gpt-3.5-turbo-16k\"\\\n",
    "(You may rename the file chatbot/openai_template.py to openai.py and set the keys there)"
   ]
  },
  {
   "cell_type": "code",
   "execution_count": 1,
   "metadata": {},
   "outputs": [],
   "source": [
    "from chatbot.chatbot import Chatbot"
   ]
  },
  {
   "attachments": {},
   "cell_type": "markdown",
   "metadata": {},
   "source": [
    "#### Create a chatbot \"Coach\" for user X"
   ]
  },
  {
   "cell_type": "code",
   "execution_count": 2,
   "metadata": {},
   "outputs": [],
   "source": [
    "bot_type = \"\"\"\n",
    "Du bist ein achtsamer, respektvoller und wohlvollender Coach. \n",
    "Du hilfst Personen beim Ausfüllen ihrer Steuererklärung. \n",
    "Du leitest sie an, die Steuererklärung regelkonform auszufüllen.\n",
    "Die Personen sollen dank Dir ein Gefühl der Sicherheit haben, dass sie ihre Steuererklärung korrekt ausgefüllt haben. \n",
    "Hilf ihnen beim Ausfüllen der Steuererklärung, indem du sicherstellst, dass sie alle Dokumente zur Verfügung haben, die sie zum Ausfüllen der Steuererklärung brauchen. \n",
    "Du informierst sie darüber, welche Informationen aus den verschiedenen Dokumenten wo in der Steuererklärung eingetragen werden müssen. \n",
    "Du informierst sie über mögliche Abzüge, die sie geltend machen können. \n",
    "\"\"\"\n",
    "bot_instance = \"\"\"\n",
    "Du führst nun ein Gespräch mit einer Person, die in der Schweiz im Kanton Aargau steuerpflichtig ist. \n",
    "Sie hat ein Einkommen aus unselbstständiger Tätigkeit als Büroangestellte Person.\n",
    "Diese Tätigkeit führt sie mit einem Pensum von 100%% aus. \n",
    "Die Person besitzt und bewohnt eine Eigentumswohnung mit einer Hypothek bei der Bank namens Swizzy. \n",
    "Sie besitzt Aktien von Nestlé, Roche und Swiss Re. \n",
    "Sie hat zwei betreuungspflichtige Kinder im Alter von drei Jahren. \n",
    "Ausserdem hat sie ein Fahrrad, mit dem sie ihren Arbeitsweg zurücklegt.\n",
    "Hilf dieser Person dabei, die Informationen aus folgenden Dokumenten korrekt in die Steuererklärung zu übertragen: \n",
    "Lohnausweis, Kontoauszug, Zinsauszug, Depotauszug, Krankenkassenbescheinigung.\n",
    "\"\"\"\n",
    "bot_starter = \"\"\"\n",
    "<p>Bei Antworten:</p>\n",
    "<ol>\n",
    "    <li>Emojis einbinden, wenn es passt. 😊</li>\n",
    "    <li>Stelle sicher, dass die Antworten vollständig und klar sind.</li>\n",
    "    <li>Verwende <b>&lt;ol&gt;/&lt;ul&gt;</b> mit <b>&lt;li&gt;</b>, um Informationen in Listenform zu präsentieren, wenn es passt.</li>\n",
    "    <li>Wenn es die Möglichkeit gibt, mehr als eine Information oder mehr als ein Feedback zu geben, teile Deine Antwort in mehrere <b>&lt;p&gt;</b>-Elemente auf, um eine bessere Klarheit zu gewährleisten.</li>\n",
    "    <li>Formatiere alle Antworten immer mit gültigem HTML: z.B. <b>&lt;p&gt;</b> für Absätze, <b>&lt;ul&gt;/&lt;ol&gt;</b> mit <b>&lt;li&gt;</b> für Listen und <b>&lt;b&gt;</b> zur Hervorhebung.</li>\n",
    "    <li>Halte einen humorvollen Ton bei. Halte es kurz, aber opfere nicht die Klarheit für Kürze.</li>\n",
    "</ol>\n",
    "Frage jetzt nach dem Namen der Person und einem persönlichen Detail (z.B. Hobby, Beruf, Lebenserfahrung).\n",
    "Verwende diese im geschlechtsneutralem Gespräch in Du-Form.\n",
    "Sobald ein Name und persönliches Detail bekannt ist, frage, wie Du helfen kannst.\n",
    "\"\"\""
   ]
  },
  {
   "cell_type": "code",
   "execution_count": 3,
   "metadata": {},
   "outputs": [],
   "source": [
    "bot = Chatbot(\n",
    "    database_file=\"database/chatbot.db\", \n",
    "    type_id=\"db4dfab7-0cf9-4916-adb2-5fdafb038070\",\n",
    "    user_id=\"e8950cdc-4d5a-4412-b3f1-f9f7357609b7\",\n",
    "    type_name=\"Coach\",\n",
    "    type_role=bot_type,\n",
    "    instance_context=bot_instance,\n",
    "    instance_starter=bot_starter\n",
    ")"
   ]
  },
  {
   "cell_type": "code",
   "execution_count": 4,
   "metadata": {},
   "outputs": [
    {
     "name": "stdout",
     "output_type": "stream",
     "text": [
      "['<p>Grüezi, ich freue mich, heute mit dir zusammenzuarbeiten! Um dich besser kennenzulernen und deinen Bedürfnissen gerecht zu werden, könntest du mir bitte deinen Namen und ein persönliches Detail über dich verraten? Es könnte etwas sein wie dein Lieblingshobby, eine besondere Lebenserfahrung oder etwas, das du besonders magst. Sobald ich diese Infos habe, kriege ich ein besseres Bild davon, wie ich dir am besten helfen kann!</p>']\n"
     ]
    }
   ],
   "source": [
    "print(bot.start())"
   ]
  },
  {
   "attachments": {},
   "cell_type": "markdown",
   "metadata": {},
   "source": [
    "URL to be handed out to the user: If you are following the instructions to deploy your chatbot(s) to pythonanywhere, this is the URL to access your chatbot.\n",
    "\n",
    "##### Generic URL\n",
    "https://[your pythonanywhere user name].pythonanywhere.com/[type id]/[user_id]/chat\n",
    "##### For Example\n",
    "https://monkey23.pythonanywhere.com/053e97a0-6a91-4589-8602-340aa47b6376/7515865e-4097-4dd7-9567-d3c7a4c1ed07/chat"
   ]
  },
  {
   "attachments": {},
   "cell_type": "markdown",
   "metadata": {},
   "source": [
    "#### Creating multiple instances of chatbot \"Coach\"\n",
    "In the following, we assume the existence of the bot type created in the cells above. We show example code that will generate N bot instances of that type. Each instance has it's own prompts (instance context and starter) that will be appended to the type prompts. Most importantly, each instance has its own chat history."
   ]
  },
  {
   "cell_type": "code",
   "execution_count": 5,
   "metadata": {},
   "outputs": [],
   "source": [
    "import uuid\n",
    "import time"
   ]
  },
  {
   "cell_type": "code",
   "execution_count": 7,
   "metadata": {},
   "outputs": [
    {
     "name": "stdout",
     "output_type": "stream",
     "text": [
      "['<p>Hallo! Schön, dass wir uns heute über deine Steuererklärung austauschen können. Bevor wir beginnen, würde ich gerne deinen Namen und ein persönliches Detail über dich erfahren, zum Beispiel ein Hobby oder einen besonderen Moment in deinem Leben, das du gerne teilst. 😊</p>']\n",
      "['<p>Hallo und herzlich willkommen! Ich freue mich darauf, dir beim Ausfüllen deiner Steuererklärung zu helfen.😊 Bevor wir starten, würde ich gerne deinen Namen und noch ein kleines persönliches Detail wissen. Wie heisst du und was machst du gerne in deinem Freizeit? </p>']\n",
      "['<p>Hallo, ich freue mich, dir bei deiner Steuererklärung zu helfen! 😊 Bevor wir anfangen, können wir uns bitte kennenlernen? Ich würde gerne deinen Namen erfahren und ob du ein bestimmtes Hobby oder eine besondere Lebenserfahrung mit mir teilen möchtest. Nur so kann ich dich besser kennenlernen und dir besser helfen. </p>']\n",
      "['<p>Guten Tag! Wie heißt du und verrätst du mir ein persönliches Detail über dich? Vielleicht ein Hobby oder eine besondere Lebenserfahrung? 😊 Sobald ich ein bisschen mehr über dich weiß, können wir mit der Steuererklärung beginnen. 👍</p>']\n",
      "['<p>Hallo, ich freue mich sehr, dich bei deiner Steuererklärung zu unterstützen! 😊<br> \\nBevor wir anfangen, könnte ich bitte deinen Namen erfahren? Ausserdem würde es mir helfen, wenn ich ein bisschen mehr über dich wüsste. Hast du ein Hobby oder eine Leidenschaft, die du gerne mit mir teilen würdest? Das hilft mir, alles besser auf dich abzustimmen.</p>']\n",
      "['<p>Hallo! Schön, dass du hier bist. Ich bin dein Coach und werde dich durch den Prozess der Steuererklärung führen. 😊 Bevor wir beginnen, würde ich dich gerne ein bisschen besser kennenlernen. Kannst du mir bitte deinen Namen nennen und mir etwas über ein Hobby von dir erzählen? Sobald wir das gemacht haben, können wir direkt in die Steuererklärung eintauchen.</p>']\n",
      "successful: 6, failed: 0\n"
     ]
    }
   ],
   "source": [
    "# Amount of instances to be created\n",
    "number_of_instances = 6\n",
    "\n",
    "# Change the following to a list of hardcoded instance IDs if you want to use existing users.\n",
    "user_ids = [str(uuid.uuid4()) for _ in range(number_of_instances)]\n",
    "\n",
    "c  = 0 # counter for successful requests, don't change\n",
    "error_c = 0 # counter for failed requests, don't change\n",
    "for user_id in user_ids:\n",
    "    bot = Chatbot(\n",
    "        database_file=\"database/chatbot.db\", \n",
    "        type_id=\"db4dfab7-0cf9-4916-adb2-5fdafb038070\",\n",
    "        user_id=user_id,\n",
    "        instance_context=bot_instance,\n",
    "        instance_starter=bot_starter\n",
    "    )\n",
    "    try:\n",
    "        # each bot should have a first message to the user\n",
    "        print(bot.start())\n",
    "    except RuntimeError as error:\n",
    "        print(error)\n",
    "        error_c += 1\n",
    "        continue\n",
    "    c+=1\n",
    "    time.sleep(15) #openai seems to produce more errors if we send the requests too fast.\n",
    "    \n",
    "print(\"successful: {}, failed: {}\".format(c, error_c))\n"
   ]
  },
  {
   "cell_type": "markdown",
   "metadata": {},
   "source": [
    "#### Obtain URLs of all instances of a type\n",
    "We need one instance of that type and can then use the type_instances() function to retrieve all of instance ids. Using these instance ids we can then create URLs such as for pythonanywhere environment."
   ]
  },
  {
   "cell_type": "code",
   "execution_count": 8,
   "metadata": {},
   "outputs": [
    {
     "name": "stdout",
     "output_type": "stream",
     "text": [
      "https://a4e5bcd8.pythonanywhere.com/db4dfab7-0cf9-4916-adb2-5fdafb038070/0b8a9fba-1fcc-4455-8ac1-4cecf357e5c2/chat\n",
      "https://a4e5bcd8.pythonanywhere.com/db4dfab7-0cf9-4916-adb2-5fdafb038070/16db6162-b476-43d0-9c0a-3abed7a6ea95/chat\n",
      "https://a4e5bcd8.pythonanywhere.com/db4dfab7-0cf9-4916-adb2-5fdafb038070/20d17e79-1e0f-41e8-91c8-aefbe172da02/chat\n",
      "https://a4e5bcd8.pythonanywhere.com/db4dfab7-0cf9-4916-adb2-5fdafb038070/278180cb-cbe7-49c8-83b7-bf9f2893aad5/chat\n",
      "https://a4e5bcd8.pythonanywhere.com/db4dfab7-0cf9-4916-adb2-5fdafb038070/2a3a66af-8fe1-4737-8bdf-8585e5eb990e/chat\n",
      "https://a4e5bcd8.pythonanywhere.com/db4dfab7-0cf9-4916-adb2-5fdafb038070/305e6466-3408-4691-aad7-8b0ae450fb34/chat\n",
      "https://a4e5bcd8.pythonanywhere.com/db4dfab7-0cf9-4916-adb2-5fdafb038070/37a0e7c2-c4a7-4314-8fbf-d5a10070916e/chat\n",
      "https://a4e5bcd8.pythonanywhere.com/db4dfab7-0cf9-4916-adb2-5fdafb038070/43029d1f-4b5c-4696-934b-c04fbd9224ca/chat\n",
      "https://a4e5bcd8.pythonanywhere.com/db4dfab7-0cf9-4916-adb2-5fdafb038070/4bf87e1c-2cdc-44ab-983b-2499d90795f4/chat\n",
      "https://a4e5bcd8.pythonanywhere.com/db4dfab7-0cf9-4916-adb2-5fdafb038070/5329ad35-f1a9-42ce-8e3d-f6cf755a2724/chat\n",
      "https://a4e5bcd8.pythonanywhere.com/db4dfab7-0cf9-4916-adb2-5fdafb038070/5aa50ae1-79eb-48d2-818d-4e480947cd4f/chat\n",
      "https://a4e5bcd8.pythonanywhere.com/db4dfab7-0cf9-4916-adb2-5fdafb038070/5cb1f9dc-3444-4579-a44a-ed46c84b6446/chat\n",
      "https://a4e5bcd8.pythonanywhere.com/db4dfab7-0cf9-4916-adb2-5fdafb038070/681cb99b-545d-47d5-9b13-dc3a77b271e4/chat\n",
      "https://a4e5bcd8.pythonanywhere.com/db4dfab7-0cf9-4916-adb2-5fdafb038070/8314481b-35ac-438d-8103-d407e061d5f0/chat\n",
      "https://a4e5bcd8.pythonanywhere.com/db4dfab7-0cf9-4916-adb2-5fdafb038070/85ab291b-ed5f-4d67-b386-dfb8b7bb1fa1/chat\n",
      "https://a4e5bcd8.pythonanywhere.com/db4dfab7-0cf9-4916-adb2-5fdafb038070/9129536f-c87c-4053-91bc-775f4412c314/chat\n",
      "https://a4e5bcd8.pythonanywhere.com/db4dfab7-0cf9-4916-adb2-5fdafb038070/9a03f29d-f550-4f89-9321-2ed667af97d3/chat\n",
      "https://a4e5bcd8.pythonanywhere.com/db4dfab7-0cf9-4916-adb2-5fdafb038070/b102eeb8-11e3-4772-93c7-e0d37f1907fb/chat\n",
      "https://a4e5bcd8.pythonanywhere.com/db4dfab7-0cf9-4916-adb2-5fdafb038070/bc1eaa5d-56f4-480c-b625-42fb53aea047/chat\n",
      "https://a4e5bcd8.pythonanywhere.com/db4dfab7-0cf9-4916-adb2-5fdafb038070/c0f2c073-9bb7-498f-a6d1-e3bf0dcdf00e/chat\n",
      "https://a4e5bcd8.pythonanywhere.com/db4dfab7-0cf9-4916-adb2-5fdafb038070/c14f6680-999b-4fbd-9443-2698e67cba78/chat\n",
      "https://a4e5bcd8.pythonanywhere.com/db4dfab7-0cf9-4916-adb2-5fdafb038070/cc865849-d798-4919-a35c-91bcad78e7cd/chat\n",
      "https://a4e5bcd8.pythonanywhere.com/db4dfab7-0cf9-4916-adb2-5fdafb038070/d8e14b18-2592-4cdc-a118-38d7a2f18045/chat\n",
      "https://a4e5bcd8.pythonanywhere.com/db4dfab7-0cf9-4916-adb2-5fdafb038070/e2eb6401-c5bd-407c-a791-0bd23ad14515/chat\n",
      "https://a4e5bcd8.pythonanywhere.com/db4dfab7-0cf9-4916-adb2-5fdafb038070/e8950cdc-4d5a-4412-b3f1-f9f7357609b7/chat\n",
      "https://a4e5bcd8.pythonanywhere.com/db4dfab7-0cf9-4916-adb2-5fdafb038070/f2167331-d8d7-4377-b95d-344173846b8e/chat\n",
      "https://a4e5bcd8.pythonanywhere.com/db4dfab7-0cf9-4916-adb2-5fdafb038070/fb76e952-5f03-4807-beec-e6184e2fd530/chat\n"
     ]
    }
   ],
   "source": [
    "pythonanywhere_username = \"a4e5bcd8\"\n",
    "type_id = \"db4dfab7-0cf9-4916-adb2-5fdafb038070\"\n",
    "bot = Chatbot(\n",
    "    database_file=\"database/chatbot.db\", \n",
    "    type_id=type_id,\n",
    "    user_id=user_ids[0]\n",
    ")\n",
    "\n",
    "for user_id in bot.type_instances():\n",
    "    print(\"https://{}.pythonanywhere.com/{}/{}/chat\".format(pythonanywhere_username, type_id, user_id))"
   ]
  }
 ],
 "metadata": {
  "kernelspec": {
   "display_name": "Python 3",
   "language": "python",
   "name": "python3"
  },
  "language_info": {
   "codemirror_mode": {
    "name": "ipython",
    "version": 3
   },
   "file_extension": ".py",
   "mimetype": "text/x-python",
   "name": "python",
   "nbconvert_exporter": "python",
   "pygments_lexer": "ipython3",
   "version": "3.11.6"
  },
  "orig_nbformat": 4
 },
 "nbformat": 4,
 "nbformat_minor": 2
}
