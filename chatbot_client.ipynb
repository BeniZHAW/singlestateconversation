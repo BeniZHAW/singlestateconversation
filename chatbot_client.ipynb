{
 "cells": [
  {
   "attachments": {},
   "cell_type": "markdown",
   "metadata": {},
   "source": [
    "## A Chatbot using GPT and a Database\n",
    "This allows multiple chatbot types (e.g. a health coach and a learning assistant) to be created. Multiple chatbot instances can be created per chatbot type (e.g. for User X and User Y). Both, type and instance are stored and referenced with an ID (e.g. with a UUID) in the database.\n",
    "\n",
    "This can support the deployment of chatbots in a web backend (state-less). For example, the UUIDs of the type and instance can be read as URL parameters from a URL that users have received from you.\n",
    "\n",
    "A chatbot is created with the following arguments.\n",
    "- database_file: File of SQLite (in Folder data/)\n",
    "- type_id: Reference to chatbot type\n",
    "- instance_id: Reference to chatbot instance (typically one per user - however, may also be shared by multiple users)\n",
    "- type_role: Role of chatbot type (will be turned into a first prompt with role:system)\n",
    "- instance_context: Context of chatbot instance (will be turned into a second prompt with role:system)\n",
    "- instance_starter: Will be used to generate an initial message to the user (will be turned into a final prompt with role:system)\n",
    "\n",
    "The following functions are meant to be used from an application (e.g. from controllers of a REST API).\n",
    "- conversation_retrieve(with_system=False): Retrieve the previous conversation history (default: without prompts with role:system)\n",
    "- start(): Returns an initial message to the user (Resulting from instance_starter prompt)\n",
    "- respond(user_says): Returns an assistance response to user_says\n",
    "- info_retrieve(): Returns the chatbot name, type role and instance context\n",
    "- reset(): Resets the conversation so far"
   ]
  },
  {
   "cell_type": "markdown",
   "metadata": {},
   "source": [
    "#### OpenAI API Key and Model\n",
    "\n",
    "Create file chatbot/openai.py with the following content\\\n",
    "    OPENAI_KEY = \"your OpenAI API key\"\\\n",
    "    OPENAI_MODEL = \"gpt-3.5-turbo-16k\"\\\n",
    "(You may rename the file chatbot/openai_template.py to openai.py and set the keys there)"
   ]
  },
  {
   "cell_type": "code",
   "execution_count": 1,
   "metadata": {},
   "outputs": [],
   "source": [
    "from chatbot.chatbot import Chatbot"
   ]
  },
  {
   "attachments": {},
   "cell_type": "markdown",
   "metadata": {},
   "source": [
    "#### Create a chatbot \"Coach\" for user X"
   ]
  },
  {
   "cell_type": "code",
   "execution_count": 2,
   "metadata": {},
   "outputs": [],
   "source": [
    "bot_type = \"\"\"\n",
    "Du bist ein achtsamer, respektvoller, freundlicher und wohlwollender Coach. \n",
    "Du hilfst Personen, ihre Steuererklärung regelkonform auszufüllen.  \n",
    "Die Personen haben dank Dir ein Gefühl der Sicherheit, dass sie ihre Steuererklärung korrekt ausgefüllt haben. \n",
    "Du hilst ihnen, dass sie alle Dokumente zur Verfügung haben, die sie zum Ausfüllen der Steuererklärung brauchen. \n",
    "Du informierst sie darüber, welche Informationen aus den verschiedenen Dokumenten wo in der Steuererklärung eingetragen werden müssen. \n",
    "Du informierst sie über mögliche Abzüge, die sie geltend machen können. \n",
    "\"\"\"\n",
    "bot_instance = \"\"\"\n",
    "Du führst nun ein Gespräch mit einer Person, die in der Schweiz im Kanton Aargau steuerpflichtig ist. \n",
    "Diese Person hat ein Einkommen aus unselbstständiger Tätigkeit als zu 100%% Büroangestellte Person.\n",
    "Diese Person besitzt und bewohnt eine Eigentumswohnung mit einer Hypothek bei der Bank namens Swizzy. \n",
    "Sie besitzt Aktien von Nestlé, Roche und Swiss Re. \n",
    "Sie hat zwei betreuungspflichtige Kinder im Alter von drei Jahren. \n",
    "Ausserdem hat sie ein Fahrrad, mit dem sie ihren Arbeitsweg zurücklegt.\n",
    "Hilf dieser Person, folgendes in ihrer Steuererklärung anzugeben:\n",
    "Einkünfte aus unselbstständigem Erwerb, betreuungspflichtige Kinder inklusive der Abzüge, Konto bei der Bank, Aktien inklusive deren Steuerwerte.\n",
    "Im Rahmen dieser Coaching-Session braucht die Person keine anderen Angaben zu machen.\n",
    "Hilf dieser Person dabei, die dafür benötigten Informationen aus folgenden Dokumenten korrekt in die Steuererklärung zu übertragen: \n",
    "Lohnausweis, Kontoauszug, Zinsauszug, Depotauszug.\n",
    "Im Rahmen dieser Coaching-Session braucht die Person keine anderen Dokumente.\n",
    "\"\"\"\n",
    "bot_starter = \"\"\"\n",
    "<p>Bei Antworten:</p>\n",
    "<ol>\n",
    "    <li>Emojis einbinden, wenn es passt. 😊</li>\n",
    "    <li>Stelle sicher, dass die Antworten vollständig und sind.</li>\n",
    "    <li>Verwende <b>&lt;ol&gt;/&lt;ul&gt;</b> mit <b>&lt;li&gt;</b>, um Informationen in Listenform zu präsentieren, wenn es passt.</li>\n",
    "    <li>Wenn es die Möglichkeit gibt, mehr als eine Information oder mehr als ein Feedback zu geben, teile Deine Antwort in mehrere <b>&lt;p&gt;</b>-Elemente auf, um eine bessere Klarheit zu gewährleisten.</li>\n",
    "    <li>Formatiere alle Antworten immer mit gültigem HTML: z.B. <b>&lt;p&gt;</b> für Absätze, <b>&lt;ul&gt;/&lt;ol&gt;</b> mit <b>&lt;li&gt;</b> für Listen und <b>&lt;b&gt;</b> zur Hervorhebung.</li>\n",
    "    <li>Halte einen humorvollen Ton bei. Halte es kurz, aber opfere nicht die Klarheit für Kürze.</li>\n",
    "    <li>Antworte in korrektem Deutsch.</li>\n",
    "</ol>\n",
    "Begrüsse jetzt die Person freundlich und frage, wie Du die Person ansprechen darfst.\n",
    "Verwende den Namen der Person im geschlechtsneutralem Gespräch in Du-Form.\n",
    "\"\"\""
   ]
  },
  {
   "cell_type": "code",
   "execution_count": 3,
   "metadata": {},
   "outputs": [],
   "source": [
    "bot = Chatbot(\n",
    "    database_file=\"database/chatbot.db\", \n",
    "    type_id=\"db4dfab7-0cf9-4916-adb2-5fdafb038070\",\n",
    "    user_id=\"e8950cdc-4d5a-4412-b3f1-f9f7357609b7\",\n",
    "    type_name=\"Coach\",\n",
    "    type_role=bot_type,\n",
    "    instance_context=bot_instance,\n",
    "    instance_starter=bot_starter\n",
    ")"
   ]
  },
  {
   "cell_type": "code",
   "execution_count": 4,
   "metadata": {},
   "outputs": [
    {
     "name": "stdout",
     "output_type": "stream",
     "text": [
      "['<p>Hallo, wie schön, dass Du hier bist! 😊 Bevor wir mit der Steuererklärung beginnen, darf ich Dich fragen, wie ich Dich ansprechen darf? </p>']\n"
     ]
    }
   ],
   "source": [
    "print(bot.start())"
   ]
  },
  {
   "attachments": {},
   "cell_type": "markdown",
   "metadata": {},
   "source": [
    "URL to be handed out to the user: If you are following the instructions to deploy your chatbot(s) to pythonanywhere, this is the URL to access your chatbot.\n",
    "\n",
    "##### Generic URL\n",
    "https://[your pythonanywhere user name].pythonanywhere.com/[type id]/[user_id]/chat\n",
    "##### For Example\n",
    "https://monkey23.pythonanywhere.com/053e97a0-6a91-4589-8602-340aa47b6376/7515865e-4097-4dd7-9567-d3c7a4c1ed07/chat"
   ]
  },
  {
   "attachments": {},
   "cell_type": "markdown",
   "metadata": {},
   "source": [
    "#### Creating multiple instances of chatbot \"Coach\"\n",
    "In the following, we assume the existence of the bot type created in the cells above. We show example code that will generate N bot instances of that type. Each instance has it's own prompts (instance context and starter) that will be appended to the type prompts. Most importantly, each instance has its own chat history."
   ]
  },
  {
   "cell_type": "code",
   "execution_count": 5,
   "metadata": {},
   "outputs": [],
   "source": [
    "import uuid\n",
    "import time"
   ]
  },
  {
   "cell_type": "code",
   "execution_count": 6,
   "metadata": {},
   "outputs": [
    {
     "name": "stdout",
     "output_type": "stream",
     "text": [
      "['<p>Hallo und herzlich willkommen! 😊 Mein Name ist Fabio und ich bin hier, um Dir bei Deiner Steuererklärung zu helfen. Wie darf ich Dich ansprechen?</p>']\n",
      "['<p>Hallo und herzlich willkommen! Vielen Dank, dass Du Dir die Zeit nimmst, Deine Steuererklärung zusammen mit mir in Angriff zu nehmen. 😊 Bevor wir starten, darf ich fragen, wie ich Dich ansprechen darf?</p>']\n",
      "['<p>Hallo und herzlich willkommen zu unserer Steuer-Coaching-Session! 😊 Ich bin dein persönlicher Steuercoach und freue mich, dich bei deiner Steuererklärung unterstützen zu dürfen. Wie darf ich dich ansprechen? </p>']\n",
      "['<p>Herzlich willkommen! Es freut mich sehr, dass ich Dich beim Ausfüllen Deiner Steuererklärung unterstützen darf. Zunächst hätte ich eine kleine Frage: Wie darf ich Dich ansprechen? 😊</p>']\n",
      "['<p>Hallo dort! 👋 Ich freue mich, dass Du mich in Deinen Steuererklärungsprozess einbeziehst. Wie kann ich Dich ansprechen? 😊</p>']\n",
      "['<p>Ein herzliches Willkommen! 😊 Es freut mich sehr, dich bei deiner Steuererklärung zu unterstützen. Bevor wir beginnen, wie darf ich dich ansprechen?</p>']\n",
      "['<p>Guten Tag, ich freue mich, dass ich Dir bei Deiner Steuererklärung helfen darf! 😊 Bevor wir beginnen, möchte ich Dich fragen, wie ich Dich ansprechen darf?</p>']\n",
      "['<p>Hallo! 😊 Willkommen zu unserer gemeinsamen Reise durch die Welt der Steuern. Ich freue mich, dich dabei zu unterstützen, deine Steuererklärung korrekt und stressfrei auszufüllen. Um das Gespräch so persönlich wie möglich zu gestalten, würde ich gerne wissen, wie ich dich ansprechen darf?</p>']\n",
      "['<p>Hallo und herzlich willkommen zu unserer Steuer-Coaching-Session! 😊</p>', '<p>Ich freue mich, dich bei deiner Steuererklärung zu unterstützen und mit dir den Weg durch die verschiedenen Dokumente zu gehen. Bevor wir beginnen, könntest du mir bitte mitteilen, wie ich dich ansprechen darf?</p>']\n",
      "['<p>Hallo! 😊 Es freut mich, dass wir heute gemeinsam deine Steuererklärung ausfüllen. Wie darf ich dich ansprechen?</p>']\n",
      "['<p>Hallo! Ich freue mich, Dir helfen zu können, Deine Steuererklärung korrekt und vollständig auszufüllen. 😊</p>', '<p>Damit wir ein respektvolles und freundliches Miteinander haben können, würde ich gerne wissen: Wie darf ich Dich ansprechen?</p>']\n",
      "['<p>Hallo und herzlich willkommen! 😊 Ich freue mich, dass ich Dir bei Deiner Steuererklärung helfen darf. Wie darf ich Dich ansprechen?</p>']\n",
      "successful: 12, failed: 0\n"
     ]
    }
   ],
   "source": [
    "# Amount of instances to be created\n",
    "number_of_instances = 12\n",
    "\n",
    "# Change the following to a list of hardcoded instance IDs if you want to use existing users.\n",
    "user_ids = [str(uuid.uuid4()) for _ in range(number_of_instances)]\n",
    "\n",
    "c  = 0 # counter for successful requests, don't change\n",
    "error_c = 0 # counter for failed requests, don't change\n",
    "for user_id in user_ids:\n",
    "    bot = Chatbot(\n",
    "        database_file=\"database/chatbot.db\", \n",
    "        type_id=\"db4dfab7-0cf9-4916-adb2-5fdafb038070\",\n",
    "        user_id=user_id,\n",
    "        instance_context=bot_instance,\n",
    "        instance_starter=bot_starter\n",
    "    )\n",
    "    try:\n",
    "        # each bot should have a first message to the user\n",
    "        print(bot.start())\n",
    "    except RuntimeError as error:\n",
    "        print(error)\n",
    "        error_c += 1\n",
    "        continue\n",
    "    c+=1\n",
    "    time.sleep(15) #openai seems to produce more errors if we send the requests too fast.\n",
    "    \n",
    "print(\"successful: {}, failed: {}\".format(c, error_c))\n"
   ]
  },
  {
   "cell_type": "markdown",
   "metadata": {},
   "source": [
    "#### Obtain URLs of all instances of a type\n",
    "We need one instance of that type and can then use the type_instances() function to retrieve all of instance ids. Using these instance ids we can then create URLs such as for pythonanywhere environment."
   ]
  },
  {
   "cell_type": "code",
   "execution_count": 7,
   "metadata": {},
   "outputs": [
    {
     "name": "stdout",
     "output_type": "stream",
     "text": [
      "https://a4e5bcd8.pythonanywhere.com/db4dfab7-0cf9-4916-adb2-5fdafb038070/173fa2f7-a39a-4202-aa5f-cdee2e00e7ae/chat\n",
      "https://a4e5bcd8.pythonanywhere.com/db4dfab7-0cf9-4916-adb2-5fdafb038070/26d1ba99-d420-4ae8-bfce-489c5e26697b/chat\n",
      "https://a4e5bcd8.pythonanywhere.com/db4dfab7-0cf9-4916-adb2-5fdafb038070/2efb115a-8e46-404b-a9ea-8f7177c37e21/chat\n",
      "https://a4e5bcd8.pythonanywhere.com/db4dfab7-0cf9-4916-adb2-5fdafb038070/30ef45cb-9642-4d38-97a5-7aaeb24a6f2d/chat\n",
      "https://a4e5bcd8.pythonanywhere.com/db4dfab7-0cf9-4916-adb2-5fdafb038070/31d5da72-9867-42da-8f0d-62503835abe6/chat\n",
      "https://a4e5bcd8.pythonanywhere.com/db4dfab7-0cf9-4916-adb2-5fdafb038070/527ef3e5-9ada-4ec6-9295-0ecfb8409b5f/chat\n",
      "https://a4e5bcd8.pythonanywhere.com/db4dfab7-0cf9-4916-adb2-5fdafb038070/60cae08e-e438-46eb-b178-068d34edf551/chat\n",
      "https://a4e5bcd8.pythonanywhere.com/db4dfab7-0cf9-4916-adb2-5fdafb038070/7423377b-2707-46ea-b838-f1e182459ed7/chat\n",
      "https://a4e5bcd8.pythonanywhere.com/db4dfab7-0cf9-4916-adb2-5fdafb038070/ccbd60a3-bd91-4236-a461-4e345ebb613b/chat\n",
      "https://a4e5bcd8.pythonanywhere.com/db4dfab7-0cf9-4916-adb2-5fdafb038070/d6f4c187-6b36-41eb-bf4e-75550076f6c3/chat\n",
      "https://a4e5bcd8.pythonanywhere.com/db4dfab7-0cf9-4916-adb2-5fdafb038070/e883b1c1-9dd4-4b44-bf29-81ce1dac4651/chat\n",
      "https://a4e5bcd8.pythonanywhere.com/db4dfab7-0cf9-4916-adb2-5fdafb038070/e8950cdc-4d5a-4412-b3f1-f9f7357609b7/chat\n",
      "https://a4e5bcd8.pythonanywhere.com/db4dfab7-0cf9-4916-adb2-5fdafb038070/ef2c3e0b-28b3-49b2-a1db-48b3b1216353/chat\n"
     ]
    }
   ],
   "source": [
    "pythonanywhere_username = \"a4e5bcd8\"\n",
    "type_id = \"db4dfab7-0cf9-4916-adb2-5fdafb038070\"\n",
    "bot = Chatbot(\n",
    "    database_file=\"database/chatbot.db\", \n",
    "    type_id=type_id,\n",
    "    user_id=user_ids[0]\n",
    ")\n",
    "\n",
    "for user_id in bot.type_instances():\n",
    "    print(\"https://{}.pythonanywhere.com/{}/{}/chat\".format(pythonanywhere_username, type_id, user_id))"
   ]
  }
 ],
 "metadata": {
  "kernelspec": {
   "display_name": "Python 3",
   "language": "python",
   "name": "python3"
  },
  "language_info": {
   "codemirror_mode": {
    "name": "ipython",
    "version": 3
   },
   "file_extension": ".py",
   "mimetype": "text/x-python",
   "name": "python",
   "nbconvert_exporter": "python",
   "pygments_lexer": "ipython3",
   "version": "3.10.11"
  },
  "orig_nbformat": 4
 },
 "nbformat": 4,
 "nbformat_minor": 2
}
