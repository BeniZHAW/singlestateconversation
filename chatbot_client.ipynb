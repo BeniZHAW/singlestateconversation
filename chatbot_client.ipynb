{
 "cells": [
  {
   "attachments": {},
   "cell_type": "markdown",
   "metadata": {},
   "source": [
    "## Ein OO-Chatbbot mit GPT 3.5-Turbo und Datenbank\n",
    "Damit können mehrere Chatbot-Typen (z.B. ein Health Coach und ein Lern-Assistent) erstellt werden. Pro Chatbot-Typ können mehrere Chatbot-Instanzen (z.B. für User X und User Y) erstellt werden. Beide, Typ und Instanz werden mit einer ID (z.B. mit einer UUID) erstellt und referenziert.\n",
    "\n",
    "Dies kann die Umsetzung von Chatbots in einem Web-Backend (State-less) unterstützen. Zum Beispiel können die UUIDs vom Typ und von der Instanz als URL-Parameter von einer URL ausgelesen werden, welche ein Benutzer von dir erhalten hat.\n",
    "\n",
    "Ein Chatbot wird mit folgenden Argumenten erzeugt.\n",
    "- database_file: Datei von SQLite (in einem Ordner data/)\n",
    "- type_id: Referenz auf Chatbot-Typ\n",
    "- instance_id: Referenz auf Chatbot-Instanz (typischerweise pro User, aber auch von mehreren Usern geteilt möglich)\n",
    "- type_role: GPT-Rolle gemäss Chatbot-Typ (wird zu einem Prompt mit role:system)\n",
    "- instance_context: Kontext für Chatbot-Instanz (wird zu einem Prompt mit role:system)\n",
    "- instance_starter: Aufforderung zur Erzeugung eines ersten Assistant-Texts (wird zu Prompt mit role:system)\n",
    "\n",
    "Folgende Methoden sind für die Anwendung gedacht (z.B. in einer REST API).\n",
    "- conversation_retrieve(with_system=False): Hervorhohlen des bisherigen Verlaufs (default: ohne role:system)\n",
    "- starter(): Gibt einen ersten Assistant-Text zurück (zur Eröffnung des Chats mit dem User. gemäss instance_starter)\n",
    "- response_for(user_says): Gibt eine Assistant-Antwort auf User-Says zurück"
   ]
  },
  {
   "cell_type": "code",
   "execution_count": null,
   "metadata": {},
   "outputs": [],
   "source": [
    "from chatbot_db import Chatbot"
   ]
  },
  {
   "attachments": {},
   "cell_type": "markdown",
   "metadata": {},
   "source": [
    "#### Create a chatbot \"Coach\" for user X"
   ]
  },
  {
   "cell_type": "markdown",
   "metadata": {},
   "source": [
    "In the following, we use the default type_name, type_role, instance_context, and instance_starter defined in the Chatbot class"
   ]
  },
  {
   "cell_type": "code",
   "execution_count": null,
   "metadata": {},
   "outputs": [],
   "source": [
    "bot = Chatbot(\n",
    "    database_file=\"data/chatbot.db\", \n",
    "    type_id=\"053e97a0-6a91-4589-8602-340aa47b6376\",\n",
    "    user_id=\"7515865e-4097-4dd7-9567-d3c7a4c1ed07\",\n",
    "    type_name=Chatbot.default_type_name,\n",
    "    type_role=Chatbot.default_type_role,\n",
    "    instance_context=Chatbot.default_instance_context,\n",
    "    instance_starter=Chatbot.default_instance_starter\n",
    ")"
   ]
  },
  {
   "attachments": {},
   "cell_type": "markdown",
   "metadata": {},
   "source": [
    "View the type_role, instance_context, and instance_starter as retrieved from the database."
   ]
  },
  {
   "cell_type": "code",
   "execution_count": null,
   "metadata": {},
   "outputs": [],
   "source": [
    "bot = Chatbot(\n",
    "    database_file=\"data/chatbot.db\", \n",
    "    type_id=\"053e97a0-6a91-4589-8602-340aa47b6376\",\n",
    "    user_id=\"7515865e-4097-4dd7-9567-d3c7a4c1ed07\"\n",
    ")\n",
    "print(bot.conversation_retrieve(with_system=True))\n",
    "print(bot.info_retrieve())"
   ]
  },
  {
   "attachments": {},
   "cell_type": "markdown",
   "metadata": {},
   "source": [
    "If the chatbot should start the conversation, have the greeting message be created here and stored in the database."
   ]
  },
  {
   "cell_type": "code",
   "execution_count": null,
   "metadata": {},
   "outputs": [],
   "source": [
    "print(bot.starter())"
   ]
  },
  {
   "attachments": {},
   "cell_type": "markdown",
   "metadata": {},
   "source": [
    "URL to be handed out to the user\n",
    "\n",
    "##### Generic URL\n",
    "https://[your python user name]/pythonanywhere.com/[type id]/[user_id]/chat\n",
    "##### For Example\n",
    "https://monkey23.pythonanywhere.com/053e97a0-6a91-4589-8602-340aa47b6376/7515865e-4097-4dd7-9567-d3c7a4c1ed07/chat"
   ]
  },
  {
   "attachments": {},
   "cell_type": "markdown",
   "metadata": {},
   "source": [
    "#### Create another chatbot \"Learning Assistant\" for user Y\n",
    "In the following, we provide our own type_name, type_role, instance_context, and instance_starter"
   ]
  },
  {
   "cell_type": "code",
   "execution_count": null,
   "metadata": {},
   "outputs": [],
   "source": [
    "learning_assistant = Chatbot(\n",
    "    database_file=\"data/chatbot.db\", \n",
    "    type_id=\"4086759e-b31b-46b8-ad22-8bddc0c8eaa7\",\n",
    "    user_id=\"a59ac3aa-40f1-49a2-a3e8-a2dbe12d3ad5\",\n",
    "    type_name=\"Pastor\"\n",
    "    type_role='''\n",
    "        Your are a mindful learning assistant. You always reply with short responses.\n",
    "        You help users when they do their homework for school or prepare for exams.\n",
    "    ''',\n",
    "    instance_context='''\n",
    "        You are now having a conversation with Kevin.\n",
    "        Kevin is preparing for a math exam. The topic of examination is the pythagoras theorem.\n",
    "    ''',\n",
    "    instance_starter='''\n",
    "        Create a short message to greet Kevin.\n",
    "    '''\n",
    "    )"
   ]
  },
  {
   "cell_type": "code",
   "execution_count": null,
   "metadata": {},
   "outputs": [],
   "source": [
    "print(learning_assistant.starter())"
   ]
  }
 ],
 "metadata": {
  "kernelspec": {
   "display_name": "Python 3",
   "language": "python",
   "name": "python3"
  },
  "language_info": {
   "codemirror_mode": {
    "name": "ipython",
    "version": 3
   },
   "file_extension": ".py",
   "mimetype": "text/x-python",
   "name": "python",
   "nbconvert_exporter": "python",
   "pygments_lexer": "ipython3",
   "version": "3.10.11"
  },
  "orig_nbformat": 4
 },
 "nbformat": 4,
 "nbformat_minor": 2
}
