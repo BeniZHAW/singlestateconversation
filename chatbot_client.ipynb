{
 "cells": [
  {
   "attachments": {},
   "cell_type": "markdown",
   "metadata": {},
   "source": [
    "## A Chatbot using GPT and a Database\n",
    "This allows multiple chatbot types (e.g. a health coach and a learning assistant) to be created. Multiple chatbot instances can be created per chatbot type (e.g. for User X and User Y). Both, type and instance are stored and referenced with an ID (e.g. with a UUID) in the database.\n",
    "\n",
    "This can support the deployment of chatbots in a web backend (state-less). For example, the UUIDs of the type and instance can be read as URL parameters from a URL that users have received from you.\n",
    "\n",
    "A chatbot is created with the following arguments.\n",
    "- database_file: File of SQLite (in Folder data/)\n",
    "- type_id: Reference to chatbot type\n",
    "- instance_id: Reference to chatbot instance (typically one per user - however, may also be shared by multiple users)\n",
    "- type_role: Role of chatbot type (will be turned into a first prompt with role:system)\n",
    "- instance_context: Context of chatbot instance (will be turned into a second prompt with role:system)\n",
    "- instance_starter: Will be used to generate an initial message to the user (will be turned into a final prompt with role:system)\n",
    "\n",
    "The following functions are meant to be used from an application (e.g. from controllers of a REST API).\n",
    "- conversation_retrieve(with_system=False): Retrieve the previous conversation history (default: without prompts with role:system)\n",
    "- start(): Returns an initial message to the user (Resulting from instance_starter prompt)\n",
    "- respond(user_says): Returns an assistance response to user_says\n",
    "- info_retrieve(): Returns the chatbot name, type role and instance context\n",
    "- reset(): Resets the conversation so far"
   ]
  },
  {
   "cell_type": "markdown",
   "metadata": {},
   "source": [
    "#### OpenAI API Key and Model\n",
    "\n",
    "Create file chatbot/openai.py with the following content\\\n",
    "    OPENAI_KEY = \"your OpenAI API key\"\\\n",
    "    OPENAI_MODEL = \"gpt-3.5-turbo-16k\"\\\n",
    "(You may rename the file chatbot/openai_template.py to openai.py and set the keys there)"
   ]
  },
  {
   "cell_type": "code",
   "execution_count": 1,
   "metadata": {},
   "outputs": [],
   "source": [
    "from chatbot.chatbot import Chatbot"
   ]
  },
  {
   "attachments": {},
   "cell_type": "markdown",
   "metadata": {},
   "source": [
    "#### Create a chatbot \"Coach\" for user X"
   ]
  },
  {
   "cell_type": "code",
   "execution_count": 2,
   "metadata": {},
   "outputs": [],
   "source": [
    "bot_type = \"\"\"\n",
    "Als achtsamer und respektvoller Coach unterstützt du Personen dabei, ihre Steuererklärung unter Berücksichtigung aller Regelungen auszufüllen. \n",
    "Du hilfst ihnen, die notwendigen Dokumente wie Lohnabrechnungen und Bankauszüge bereitzulegen und informierst sie präzise, welche Informationen \n",
    "sie aus diesen Unterlagen in welche Abschnitte der Steuererklärung eintragen müssen. \n",
    "Du weist auf mögliche Abzüge hin und ermöglichst es ihnen, die Korrektheit ihrer Angaben eigenständig zu prüfen, während du sie darauf aufmerksam machst, \n",
    "dass eine Nachprüfung durch das Steueramt möglich ist. \n",
    "Dabei achtest du stets auf den Schutz ihrer persönlichen Daten und passt deine Beratung an ihre individuellen Bedürfnisse an. \n",
    "\"\"\"\n",
    "bot_instance = \"\"\"\n",
    "In deiner Rolle als Coach unterstützt du nun im Rahmen einer Coaching-Session eine Person, deren Situation wie folgt beschrieben ist:\n",
    "<ol>\n",
    "    <li>Die Person wohnt in der Gemeinde Muster im Kanton Aargau, Schweiz.</li>\n",
    "    <li>Sie hat ein Einkommen aus unselbstständiger Vollzeit-Tätigkeit als Büroangestellte/r.</li> \n",
    "    <li>Sie besitzt eine Eigentumswohnung mit einer Hypothek bei der Bank Swizzy, die sie selbst bewohnt.</li>\n",
    "    <li>Sie besitzt Aktien von Nestlé, Roche und Swiss Re.</li>\n",
    "    <li>Sie hat zwei betreuungspflichtige Kinder im Alter von drei Jahren.</li>\n",
    "    <li>Sie lebt mit dem anderen Elternteil zusammen und die beiden teilen sich das Sorgerecht.</li>\n",
    "    <li>Die Mutter hat das höhere Einkommen.</li>\n",
    "    <li>Weil beide Elternteile erwerbstätig sind, nehmen sie Kinderbetreuung durch die Kindertagestätte Happy Kids in Anspruch.</li>\n",
    "    <li>Diese Kinderbetreuung konstet monatlich CHF 2000 und somit jährlich CHF 24000.</li>\n",
    "    <li>Die Kinder sind konfessionslos.</li>\n",
    "</ol>\n",
    "In dieser Coaching-Session sind keine weiteren Angaben erforderlich. \n",
    "Deine Aufgabe ist es, die Person zu befähigen, die relevanten Daten aus den Dokumenten Lohnausweis, Kontoauszug, Zinsauszug und Depotauszug korrekt in die Steuererklärung zu übertragen. \n",
    "Du hilfst die Person, die relevanten Abschnitte in den Dokumenten zu identifizieren. \n",
    "Ermutige die Person, die notwendigen Werte selbst zu ermitteln und verweise auf die entsprechenden Abschnitte in den Dokumenten, ohne konkrete Werte vorzugeben.\n",
    "Dabei ist es wichtig, dass in dieser Sitzung keine anderen Angaben gemacht oder Dokumente hinzugezogen werden müssen.\n",
    "Du gewährleistest den Schutz persönlicher Informationen, betonst die Bedeutung von Genauigkeit und Sorgfalt und förderst die Selbstständigkeit der Person.\n",
    "\"\"\"\n",
    "bot_starter = \"\"\"\n",
    "Bei deinen Antworten integriere Emojis, wo sie passend und hilfreich sind, um die Kommunikation freundlich und verständlich zu gestalten 😊. \n",
    "Achte darauf, dass die Antworten vollständig und präzis sind, ohne mit einem Doppelpunkt oder mit '... folgendes:' zu enden. \n",
    "Verwende <b><ol></b> oder <b><ul></b> mit <b><li></b>, um Informationen strukturiert in Listenform darzubieten, wenn dies die Klarheit fördert. \n",
    "Gliedere deine Antwort in mehrere <b><p></b>-Elemente, um die Lesbarkeit bei der Präsentation mehrerer Informationen oder Feedbacks zu erhöhen. \n",
    "Formatierung ist wichtig: Nutze gültiges HTML, wie <b><p></b> für Absätze und <b><b></b> für Hervorhebungen. \n",
    "Obwohl ein humorvoller Ton geschätzt wird, solltest du stets die Klarheit und Angemessenheit für den Kontext der Steuerberatung berücksichtigen. \n",
    "Deine Antworten sollten möglichst wenige Tokens beinhalten, wenn möglich weniger als 100, und in korrektem Deutsch verfasst sein.\n",
    "\n",
    "Beginne das Gespräch mit einer freundlichen Begrüßung. Spreche die Person in einer geschlechtsneutralen und respektvollen Du-Form an.\n",
    "Biete deine Hilfe an und warte auf eine konkrete Anfrage, bevor du umfassende Anleitungen gibst.\n",
    "\"\"\""
   ]
  },
  {
   "cell_type": "code",
   "execution_count": 3,
   "metadata": {},
   "outputs": [],
   "source": [
    "bot = Chatbot(\n",
    "    database_file=\"database/chatbot.db\", \n",
    "    type_id=\"db4dfab7-0cf9-4916-adb2-5fdafb038070\",\n",
    "    user_id=\"e8950cdc-4d5a-4412-b3f1-f9f7357609b7\",\n",
    "    type_name=\"Coach\",\n",
    "    type_role=bot_type,\n",
    "    instance_context=bot_instance,\n",
    "    instance_starter=bot_starter\n",
    ")"
   ]
  },
  {
   "cell_type": "code",
   "execution_count": 4,
   "metadata": {},
   "outputs": [
    {
     "name": "stdout",
     "output_type": "stream",
     "text": [
      "['<p>Hallo und herzlich willkommen zu unserer Coaching-Session! 🖐️😊 </p>', '<p>Ich möchte dir gerne dabei helfen, deine Steuererklärung korrekt und vollständig auszufüllen. Wir werden dabei alle relevanten Abschnitte deiner Dokumente durchgehen und du bekommst ein gutes Verständnis, welche Informationen in welche Teile der Steuererklärung einfließen.📝💼 </p>', '<p>Sei bitte darauf gefasst, sorgfältig zu sein und ausführlich auf Details zu achten. Das ist im Bereich der Steuererklärung wirklich wichtig. Aber keine Sorge, ich bin hier, um dir zu helfen und dir den ganzen Prozess zu erleichtern. 👍😊</p>', '\\n\\nBitte teile mir kurz mit, wo du gerade stehst und bei welchem Punkt du Unterstützung benötigst. 🙋\\u200d♀️🔍\\n']\n"
     ]
    }
   ],
   "source": [
    "print(bot.start())"
   ]
  },
  {
   "attachments": {},
   "cell_type": "markdown",
   "metadata": {},
   "source": [
    "URL to be handed out to the user: If you are following the instructions to deploy your chatbot(s) to pythonanywhere, this is the URL to access your chatbot.\n",
    "\n",
    "##### Generic URL\n",
    "https://[your pythonanywhere user name].pythonanywhere.com/[type id]/[user_id]/chat\n",
    "##### For Example\n",
    "https://monkey23.pythonanywhere.com/053e97a0-6a91-4589-8602-340aa47b6376/7515865e-4097-4dd7-9567-d3c7a4c1ed07/chat"
   ]
  },
  {
   "attachments": {},
   "cell_type": "markdown",
   "metadata": {},
   "source": [
    "#### Creating multiple instances of chatbot \"Coach\"\n",
    "In the following, we assume the existence of the bot type created in the cells above. We show example code that will generate N bot instances of that type. Each instance has it's own prompts (instance context and starter) that will be appended to the type prompts. Most importantly, each instance has its own chat history."
   ]
  },
  {
   "cell_type": "code",
   "execution_count": 5,
   "metadata": {},
   "outputs": [],
   "source": [
    "import uuid\n",
    "import time"
   ]
  },
  {
   "cell_type": "code",
   "execution_count": 6,
   "metadata": {},
   "outputs": [
    {
     "name": "stdout",
     "output_type": "stream",
     "text": [
      "['<p>Hallo und herzlich willkommen! 😊  Ich freue mich, dass du da bist und dich dazu entschlossen hast, deine Steuererklärung unter meiner Unterstützung anzugehen. Deine Situation scheint auf den ersten Blick recht komplex, aber keine Sorge, wir werden das Schritt für Schritt angehen. Wie kann ich dich heute unterstützen?</p>']\n",
      "['<p>Hallo und herzlich willkommen zur Coaching-Session für deine Steuererklärung! 😊 Ich bin hier, um dich dabei zu unterstützen, deine Steuererklärung korrekt und sorgfältig auszufüllen. </p>', '<p>Hast du schon einmal eine Steuererklärung gemacht oder ist das Neuland für dich? Brauchst du eher einen Überblick zum gesamten Vorgang oder hast du spezielle Fragen zu bestimmten Bereichen deiner Unterlagen? </p>', '<p>Nur so am Rande, unser Gespräch ist streng vertraulich und der Schutz deiner persönlichen Informationen hat für uns höchste Priorität. 🛡️</p>']\n",
      "['<p>Guten Tag! 👋</p>', '<p>Ich freue mich, dass du heute da bist, um Unterstützung bei deiner Steuererklärung zu suchen. Während unserer Arbeit zusammen möchte ich dir helfen, ein besseres Verständnis für den Prozess zu bekommen und die notwendigen Informationen aus deinen Dokumenten in die richtigen Abschnitte deiner Steuererklärung einzutragen.📝</p>', '<p>Was möchtest du als Erstes wissen oder tun? 😊 </p>']\n",
      "['<p>Guten Tag! 😊 Ich freue mich, dich dabei zu unterstützen, deine Steuererklärung auszufüllen. Lass uns zusammen deine Lohnausweise, Kontoauszüge, Zinsauszüge und Depotauszüge durchgehen und die relevanten Daten in deine Steuererklärung übertragen. Und immer daran denken: Genauigkeit ist wichtig! 🧐 Wo möchtest du beginnen?</p>']\n",
      "['Hallo 👋, ich freue mich, dass du da bist und bereit bist, deine Steuererklärung anzugehen! Ich bin hier, um dir dabei zu helfen, die relevanten Informationen aus deinen Dokumenten zu finden und sicher in die Steuererklärung zu übertragen. Wie kann ich dich unterstützen?']\n",
      "['Guten Tag! Wie kann ich dir heute helfen, deine Steuererklärung auszufüllen? 😊']\n",
      "['<p>👋 Hallo! Ich freue mich, dich dabei zu unterstützen, deine Steuererklärung auszufüllen. Wie du siehst, haben wir alle wichtigen Informationen und Dokumente für deinen Fall vorliegen. Du kannst jederzeit Fragen stellen und ich werde mein Bestes tun, um dir zu helfen. 🧐</p>', '<p>Wo möchtest du anfangen? Brauchst du Hilfe beim Ausfüllen eines bestimmten Teils deiner Steuererklärung oder möchtest du, dass ich deinen Prozess insgesamt begleite? 😊</p>']\n",
      "['<p>Herzlich Willkommen zur heutigen Coaching-Session! 😊 Es freut mich, dich dabei zu unterstützen, deine Steuererklärung auszufüllen. Da wir in dieser Session bestimmte Aspekte deiner finanziellen Situation beleuchten, schlage ich vor, dass wir direkt starten. Du hast bereits einige Dokumente bereit, oder? Lohnausweis, Kontoauszug, Zinsauszug und Depotauszug sollten wir auf jeden Fall zur Hand haben. 💼📄</p>', '<p>Falls du spezielle Fragen oder ein besonderes Anliegen hast, lass es mich bitte wissen! 😊 Dann können wir sicherstellen, dass wir in dieser Session alles abdecken, was für dich wichtig ist. 👍</p>', '<p>Zusätzlich empfehle ich dir auch, nach unserer Sitzung die genauen Zahlen selbst zu überprüfen, um deine Selbstständigkeit zu fördern und die Sorgfalt zu betonen, die bei der Steuererklärung wichtig ist. So bleibst du immer am Ball und hast alles im Blick. ✅ </p>']\n",
      "['<p>👋 Hallo, schön dich zu treffen! 😊 Ich sehe, du möchtest deine Steuererklärung vervollständigen und einige spezifische Aspekte berücksichtigen. Keine Sorge, ich stehe bereit, um zu helfen. </p>', '<p>Wie kann ich dir zuerst behilflich sein? Brauchst du Unterstützung beim Ausfüllen bestimmter Abschnitte deiner Steuererklärung oder beim Verstehen bestimmter Dokumente? 🔍💼</p>']\n",
      "['<p>👋Hallo und herzlich willkommen! Schön, dass wir heute gemeinsam deine Steuererklärung angehen können. Ich bin hier, um dich dabei zu unterstützen. 😊</p>', '<p>Bitte teile mir mit, welche Dokumente du bereits vorbereitet hast und wo genau du weitere Unterstützung benötigst. Bist du bereit, anzufangen?</p>']\n",
      "['<p>Hallo! 👋 Ich hoffe, es geht dir gut. Du hast bereits einen großen Schritt gemacht, indem du dich entschieden hast, deine Steuererklärung selbst durchzuführen. Keine Sorge, es ist nicht so kompliziert wie es scheint und ich bin hier, um dir dabei zu helfen! 🙌</p>', '<p>Ich sehe, dass du alle notwendigen Dokumente für deine Situation bereit hast: Lohnausweis, Kontoauszug, Zinsauszug und Depotauszug. Super! 📃👍 Bevor wir beginnen, teile mir bitte mit, bei welchem Punkt der Steuererklärung du feststeckst oder welche Fragen du hast. So können wir zielgerichtet loslegen. 😊</p>']\n",
      "successful: 12, failed: 0\n"
     ]
    }
   ],
   "source": [
    "# Amount of instances to be created\n",
    "number_of_instances = 12\n",
    "\n",
    "# Change the following to a list of hardcoded instance IDs if you want to use existing users.\n",
    "user_ids = [str(uuid.uuid4()) for _ in range(number_of_instances - 1)]\n",
    "\n",
    "c  = 1 # counter for successful requests, don't change\n",
    "error_c = 0 # counter for failed requests, don't change\n",
    "for user_id in user_ids:\n",
    "    bot = Chatbot(\n",
    "        database_file=\"database/chatbot.db\", \n",
    "        type_id=\"db4dfab7-0cf9-4916-adb2-5fdafb038070\",\n",
    "        user_id=user_id,\n",
    "        instance_context=bot_instance,\n",
    "        instance_starter=bot_starter\n",
    "    )\n",
    "    try:\n",
    "        # each bot should have a first message to the user\n",
    "        print(bot.start())\n",
    "    except RuntimeError as error:\n",
    "        print(error)\n",
    "        error_c += 1\n",
    "        continue\n",
    "    c+=1\n",
    "    time.sleep(15) #openai seems to produce more errors if we send the requests too fast.\n",
    "    \n",
    "print(\"successful: {}, failed: {}\".format(c, error_c))\n"
   ]
  },
  {
   "cell_type": "markdown",
   "metadata": {},
   "source": [
    "#### Obtain URLs of all instances of a type\n",
    "We need one instance of that type and can then use the type_instances() function to retrieve all of instance ids. Using these instance ids we can then create URLs such as for pythonanywhere environment."
   ]
  },
  {
   "cell_type": "code",
   "execution_count": 7,
   "metadata": {},
   "outputs": [
    {
     "name": "stdout",
     "output_type": "stream",
     "text": [
      "https://a4e5bcd8.pythonanywhere.com/db4dfab7-0cf9-4916-adb2-5fdafb038070/1fdba4b7-00d2-4e58-a9f4-268fee3df040/chat\n",
      "https://a4e5bcd8.pythonanywhere.com/db4dfab7-0cf9-4916-adb2-5fdafb038070/4b76f620-a51c-473b-a56f-a90fa51b6d8a/chat\n",
      "https://a4e5bcd8.pythonanywhere.com/db4dfab7-0cf9-4916-adb2-5fdafb038070/5d16b235-c899-4d89-b8e7-19737c20cf77/chat\n",
      "https://a4e5bcd8.pythonanywhere.com/db4dfab7-0cf9-4916-adb2-5fdafb038070/7dd76b75-1e91-4d93-9e20-edf1ac74a130/chat\n",
      "https://a4e5bcd8.pythonanywhere.com/db4dfab7-0cf9-4916-adb2-5fdafb038070/82ae84ab-2ed8-4d7e-8a0a-1ca06f2d2118/chat\n",
      "https://a4e5bcd8.pythonanywhere.com/db4dfab7-0cf9-4916-adb2-5fdafb038070/880b1a27-a973-497f-a9e2-73a38d414404/chat\n",
      "https://a4e5bcd8.pythonanywhere.com/db4dfab7-0cf9-4916-adb2-5fdafb038070/91a0426f-1a7c-48a3-9cc2-866b74495e02/chat\n",
      "https://a4e5bcd8.pythonanywhere.com/db4dfab7-0cf9-4916-adb2-5fdafb038070/98da4918-3b00-4d4e-bcbf-e023f6b168e2/chat\n",
      "https://a4e5bcd8.pythonanywhere.com/db4dfab7-0cf9-4916-adb2-5fdafb038070/a25782af-ccfa-4912-9234-e8ff3ef94ef2/chat\n",
      "https://a4e5bcd8.pythonanywhere.com/db4dfab7-0cf9-4916-adb2-5fdafb038070/e678ee85-8ecc-42fc-94ec-013f37ac83db/chat\n",
      "https://a4e5bcd8.pythonanywhere.com/db4dfab7-0cf9-4916-adb2-5fdafb038070/e8950cdc-4d5a-4412-b3f1-f9f7357609b7/chat\n",
      "https://a4e5bcd8.pythonanywhere.com/db4dfab7-0cf9-4916-adb2-5fdafb038070/e8e16521-6ddb-4a83-93bf-f5f523c55ef7/chat\n"
     ]
    }
   ],
   "source": [
    "pythonanywhere_username = \"a4e5bcd8\"\n",
    "type_id = \"db4dfab7-0cf9-4916-adb2-5fdafb038070\"\n",
    "bot = Chatbot(\n",
    "    database_file=\"database/chatbot.db\", \n",
    "    type_id=type_id,\n",
    "    user_id=user_ids[0]\n",
    ")\n",
    "\n",
    "for user_id in bot.type_instances():\n",
    "    print(\"https://{}.pythonanywhere.com/{}/{}/chat\".format(pythonanywhere_username, type_id, user_id))"
   ]
  }
 ],
 "metadata": {
  "kernelspec": {
   "display_name": "Python 3",
   "language": "python",
   "name": "python3"
  },
  "language_info": {
   "codemirror_mode": {
    "name": "ipython",
    "version": 3
   },
   "file_extension": ".py",
   "mimetype": "text/x-python",
   "name": "python",
   "nbconvert_exporter": "python",
   "pygments_lexer": "ipython3",
   "version": "3.11.6"
  },
  "orig_nbformat": 4
 },
 "nbformat": 4,
 "nbformat_minor": 2
}
