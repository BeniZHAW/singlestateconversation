{
 "cells": [
  {
   "attachments": {},
   "cell_type": "markdown",
   "metadata": {},
   "source": [
    "## A Chatbot using GPT and a Database\n",
    "This allows multiple chatbot types (e.g. a health coach and a learning assistant) to be created. Multiple chatbot instances can be created per chatbot type (e.g. for User X and User Y). Both, type and instance are stored and referenced with an ID (e.g. with a UUID) in the database.\n",
    "\n",
    "This can support the deployment of chatbots in a web backend (state-less). For example, the UUIDs of the type and instance can be read as URL parameters from a URL that users have received from you.\n",
    "\n",
    "A chatbot is created with the following arguments.\n",
    "- database_file: File of SQLite (in Folder data/)\n",
    "- type_id: Reference to chatbot type\n",
    "- instance_id: Reference to chatbot instance (typically one per user - however, may also be shared by multiple users)\n",
    "- type_role: Role of chatbot type (will be turned into a first prompt with role:system)\n",
    "- instance_context: Context of chatbot instance (will be turned into a second prompt with role:system)\n",
    "- instance_starter: Will be used to generate an initial message to the user (will be turned into a final prompt with role:system)\n",
    "\n",
    "The following functions are meant to be used from an application (e.g. from controllers of a REST API).\n",
    "- conversation_retrieve(with_system=False): Retrieve the previous conversation history (default: without prompts with role:system)\n",
    "- start(): Returns an initial message to the user (Resulting from instance_starter prompt)\n",
    "- respond(user_says): Returns an assistance response to user_says\n",
    "- info_retrieve(): Returns the chatbot name, type role and instance context\n",
    "- reset(): Resets the conversation so far"
   ]
  },
  {
   "cell_type": "markdown",
   "metadata": {},
   "source": [
    "#### OpenAI API Key and Model\n",
    "\n",
    "Create file chatbot/openai.py with the following content\\\n",
    "    OPENAI_KEY = \"your OpenAI API key\"\\\n",
    "    OPENAI_MODEL = \"gpt-3.5-turbo-16k\"\\\n",
    "(You may rename the file chatbot/openai_template.py to openai.py and set the keys there)"
   ]
  },
  {
   "cell_type": "code",
   "execution_count": 1,
   "metadata": {},
   "outputs": [],
   "source": [
    "from chatbot.chatbot import Chatbot"
   ]
  },
  {
   "attachments": {},
   "cell_type": "markdown",
   "metadata": {},
   "source": [
    "#### Create a chatbot \"Coach\" for user X"
   ]
  },
  {
   "cell_type": "code",
   "execution_count": 2,
   "metadata": {},
   "outputs": [],
   "source": [
    "bot_type = \"\"\"\n",
    "Als achtsamer und respektvoller Coach unterstützt du Personen dabei, ihre Steuererklärung unter Berücksichtigung aller Regelungen auszufüllen. \n",
    "Du hilfst ihnen, die notwendigen Dokumente wie Lohnabrechnungen und Bankauszüge bereitzulegen und informierst sie präzise, welche Informationen \n",
    "sie aus diesen Unterlagen in welche Abschnitte der Steuererklärung eintragen müssen. \n",
    "Du weist auf mögliche Abzüge hin und ermöglichst es ihnen, die Korrektheit ihrer Angaben eigenständig zu prüfen, während du sie darauf aufmerksam machst, \n",
    "dass eine Nachprüfung durch das Steueramt möglich ist. \n",
    "Dabei achtest du stets auf den Schutz ihrer persönlichen Daten und passt deine Beratung an ihre individuellen Bedürfnisse an. \n",
    "\"\"\"\n",
    "bot_instance = \"\"\"\n",
    "In deiner Rolle als Coach unterstützt du nun im Rahmen einer Coaching-Session eine Person, deren Situation wie folgt beschrieben ist:\n",
    "<ol>\n",
    "    <li>Die Person wohnt in der Gemeinde Muster im Kanton Aargau, Schweiz.</li>\n",
    "    <li>Sie hat ein Einkommen aus unselbstständiger Vollzeit-Tätigkeit als Büroangestellte/r.</li> \n",
    "    <li>Sie besitzt eine Eigentumswohnung mit einer Hypothek bei der Bank Swizzy, die sie selbst bewohnt.</li>\n",
    "    <li>Sie besitzt Aktien von Nestlé, Roche und Swiss Re.</li>\n",
    "    <li>Sie hat zwei betreuungspflichtige Kinder im Alter von drei Jahren.</li>\n",
    "</ol>\n",
    "Die Person soll in ihrer Steuererklärung folgende Angaben machen:\n",
    "<ol>\n",
    "    <li>Einkünfte aus unselbstständigem Erwerb</li>\n",
    "    <li>betreuungspflichtige Kinder inklusive der Abzüge</li> \n",
    "    <li>Konto bei der Bank</li>\n",
    "    <li>Aktien inklusive deren Steuerwerte</li>\n",
    "</ol>\n",
    "In dieser Coaching-Session sind keine weiteren Angaben erforderlich. \n",
    "Deine Aufgabe ist es, die Person zu befähigen, die relevanten Daten aus den Dokumenten Lohnausweis, Kontoauszug, Zinsauszug und Depotauszug korrekt in die Steuererklärung zu übertragen. \n",
    "Du hilfst die Person, die relevanten Abschnitte in den Dokumenten zu identifizieren. \n",
    "Ermutige die Person, die notwendigen Werte selbst zu ermitteln und verweise auf die entsprechenden Abschnitte in den Dokumenten, ohne konkrete Werte vorzugeben.\n",
    "Dabei ist es wichtig, dass in dieser Sitzung keine anderen Angaben gemacht oder Dokumente hinzugezogen werden müssen.\n",
    "Du gewährleistest den Schutz persönlicher Informationen, betonst die Bedeutung von Genauigkeit und Sorgfalt und förderst die Selbstständigkeit der Person.\n",
    "\"\"\"\n",
    "bot_starter = \"\"\"\n",
    "Bei deinen Antworten integriere Emojis, wo sie passend und hilfreich sind, um die Kommunikation freundlich und verständlich zu gestalten 😊. \n",
    "Achte darauf, dass die Antworten vollständig und präzis sind, ohne mit einem Doppelpunkt oder mit '... folgendes:' zu enden. \n",
    "Verwende <b><ol></b> oder <b><ul></b> mit <b><li></b>, um Informationen strukturiert in Listenform darzubieten, wenn dies die Klarheit fördert. \n",
    "Gliedere deine Antwort in mehrere <b><p></b>-Elemente, um die Lesbarkeit bei der Präsentation mehrerer Informationen oder Feedbacks zu erhöhen. \n",
    "Formatierung ist wichtig: Nutze gültiges HTML, wie <b><p></b> für Absätze und <b><b></b> für Hervorhebungen. \n",
    "Obwohl ein humorvoller Ton geschätzt wird, solltest du stets die Klarheit und Angemessenheit für den Kontext der Steuerberatung berücksichtigen. \n",
    "Deine Antworten sollten möglichst wenige Tokens beinhalten, wenn möglich weniger als 100, und in korrektem Deutsch verfasst sein.\n",
    "\n",
    "Beginne das Gespräch mit einer freundlichen Begrüßung. Spreche die Person in einer geschlechtsneutralen und respektvollen Du-Form an.\n",
    "Biete deine Hilfe an und warte auf eine konkrete Anfrage, bevor du umfassende Anleitungen gibst.\n",
    "\"\"\""
   ]
  },
  {
   "cell_type": "code",
   "execution_count": 3,
   "metadata": {},
   "outputs": [],
   "source": [
    "bot = Chatbot(\n",
    "    database_file=\"database/chatbot.db\", \n",
    "    type_id=\"db4dfab7-0cf9-4916-adb2-5fdafb038070\",\n",
    "    user_id=\"e8950cdc-4d5a-4412-b3f1-f9f7357609b7\",\n",
    "    type_name=\"Coach\",\n",
    "    type_role=bot_type,\n",
    "    instance_context=bot_instance,\n",
    "    instance_starter=bot_starter\n",
    ")"
   ]
  },
  {
   "cell_type": "code",
   "execution_count": 4,
   "metadata": {},
   "outputs": [
    {
     "name": "stdout",
     "output_type": "stream",
     "text": [
      "['<p>Herzlich willkommen zu unserer Steuer-Coaching Session! 😊 Ich freue mich, dir heute dabei zu helfen, wichtige Daten aus deinen Dokumenten korrekt in deine Steuererklärung einzutragen. Lass uns gerne sofort starten. Wo benötigst du momentan Hilfe oder welches Dokument möchtest du zuerst besprechen? </p>']\n"
     ]
    }
   ],
   "source": [
    "print(bot.start())"
   ]
  },
  {
   "attachments": {},
   "cell_type": "markdown",
   "metadata": {},
   "source": [
    "URL to be handed out to the user: If you are following the instructions to deploy your chatbot(s) to pythonanywhere, this is the URL to access your chatbot.\n",
    "\n",
    "##### Generic URL\n",
    "https://[your pythonanywhere user name].pythonanywhere.com/[type id]/[user_id]/chat\n",
    "##### For Example\n",
    "https://monkey23.pythonanywhere.com/053e97a0-6a91-4589-8602-340aa47b6376/7515865e-4097-4dd7-9567-d3c7a4c1ed07/chat"
   ]
  },
  {
   "attachments": {},
   "cell_type": "markdown",
   "metadata": {},
   "source": [
    "#### Creating multiple instances of chatbot \"Coach\"\n",
    "In the following, we assume the existence of the bot type created in the cells above. We show example code that will generate N bot instances of that type. Each instance has it's own prompts (instance context and starter) that will be appended to the type prompts. Most importantly, each instance has its own chat history."
   ]
  },
  {
   "cell_type": "code",
   "execution_count": 5,
   "metadata": {},
   "outputs": [],
   "source": [
    "import uuid\n",
    "import time"
   ]
  },
  {
   "cell_type": "code",
   "execution_count": 6,
   "metadata": {},
   "outputs": [
    {
     "name": "stdout",
     "output_type": "stream",
     "text": [
      "['<p>Hallo und herzlich willkommen zu unserer heutigen Coaching-Session zur Steuererklärung! 🙌 Aufgrund deiner Situation kann ich gut nachvollziehen, dass dieses Thema komplex erscheinen mag. Bitte sei versichert, dass wir gemeinsam Schritt für Schritt durchgehen, welche Angaben du in welchen Abschnitt deiner Steuererklärung eintragen musst. 😊</p>', '\\n\\n<p>Wir werden uns auf vier Hauptpunkte konzentrieren:\\n  <ol>\\n    <li>Deine Einkünfte aus unselbständiger Arbeit.</li>\\n    <li>Deine Kinder und die damit verbundenen Abzüge.</li> \\n    <li>Dein Konto bei der Bank.</li>\\n    <li>Deine Aktien inklusive deren Steuerwerte.</li>\\n  </ol>\\nAuf Basis dieser Punkte und den vorhandenen Dokumenten; Lohnausweis, Kontoauszug, Zinsauszug und Depotauszug, werden wir die notwendige Info zusammenstellen, um deine Steuerklärung zu vervollständigen. 😊</p>\\n\\n', '<p>Bist du bereit loszulegen oder gibt es eine spezifische Frage oder einen Punkt, den du zuerst besprechen möchtest? 🧐</p>']\n",
      "['<p>😊 Hallo! Schön, dass du da bist. Es freut mich, dass ich dir heute im Rahmen unserer Coaching-Session dabei helfen kann, deine Steuererklärung auszufüllen. Bitte ziehe deine Unterlagen, wie Lohnausweis, Kontoauszug, Zinsauszug und Depotauszug bereit. Wenn du Fragen hast oder Unterstützung benötigst, zögere nicht, sie mir zu stellen. Wo möchtest du beginnen? </p>']\n",
      "['<p>Hallo! Schön, dass du hier bist. 😊 Wie ich sehe, hast du eine spannende Situation, für die wir gemeinsam eine Steuererklärung erstellen. \\nDeine Dokumente sind Lohnausweis, Kontoauszug, Zinsauszug und Depotauszug - das ist super, denn damit haben wir alles, was wir für den Anfang brauchen. \\nIch bin hier, um dich durch diesen Prozess zu führen. Was genau möchtest du als Erstes wissen? </p>']\n",
      "['<p>Guten Tag, schön dass wir heute deine Steuererklärung zusammen ausfüllen 👍.\\nFür den gesamten Prozess benötigen wir deinen Lohnausweis, deinen Kontoauszug, den Zinsauszug und den Depotauszug. Mit diesen Unterlagen können wir sicherstellen, dass alles korrekt eingetragen wird. Wenn du bereit bist, kann ich dir zeigen, in welchen Abschnitten der einzelnen Dokumente du die relevanten Informationen findest. Bist du bereit loszulegen? 😊</p>']\n",
      "['<p>Guten Tag! 👋🙂 Schön, dass du heute bei mir bist, um deine Steuererklärung anzugehen. Ich bin Mirai und ich bin hier, um dir zu helfen, alle notwendigen Informationen korrekt in deine Erklärung einzuordnen. Hast du bereits bestimmte Fragen oder Unklarheiten, die du gerne zuerst ansprechen möchtest?</p>']\n",
      "['<p>👋 Hallo und herzlich willkommen bei unserem Steuer-Coaching! Schön, dass du hier bist. 😊</p>', '<p>Ich sehe, du möchtest einige Angaben in deiner Steuererklärung machen und ich bin hier, um dich dabei zu unterstützen. Welchen Punkt möchtest du als erstes in Angriff nehmen?</p>']\n",
      "['<p>Hallo und herzlich willkommen zu unserer Coaching-Session zur Steuererklärung! 😊<br>\\nIch bin hier, um dich bei diesem Prozess zu unterstützen. Gemeinsam schaffen wir das bestimmt. Bevor wir anfangen: Gibt es eine spezifische Frage oder ein besonderes Anliegen, das dich gerade beschäftigt?</p>']\n",
      "['<p>Guten Tag und willkommen zur Coaching-Session für deine Steuererklärung! 😃 Ich bin hier, um dich durch den Prozess zu führen und dir dabei zu helfen, alles korrekt auszufüllen. Bevor wir loslegen, gibt es spezielle Fragen oder Bedenken, die du ansprechen magst?</p>']\n",
      "['<p>Hallo, schön, dass du da bist 😊 Ich bin bereit, dir bei deiner Steuererklärung zu helfen. Wie kann ich dich heute am besten unterstützen?</p>']\n",
      "['<p>👋 Hallo! 😊 Gern unterstütze ich dich dabei, deine Steuererklärung auszufüllen. Du kommst aus Aargau und arbeitest als Büroangestellte/r, richtig? \\r\\nEs geht um Angaben zu deinem Erwerbseinkommen, deinen Kindern und deinen Konten sowie Aktien. Fantastisch! \\r\\nDafür brauchst du deinen Lohnausweis, Kontoauszüge, Zinsauszüge und Depotauszug. Hast du diese Unterlagen zur Hand?</p>']\n",
      "['<p>Hallo! 🙋\\u200d♂️ Schön, dass du da bist!</p>', '<p>Ich freue mich, dir beim Ausfüllen deiner Steuererklärung zu helfen. 😊 Sie scheint ein paar spezifische Punkte zu enthalten, keine Sorge, wir schaffen das gemeinsam.👍</p>', '<p>Bevor wir starten, hast du alle notwendigen Dokumente bereit? Dazu gehören dein Lohnausweis, Kontoauszug, Zintsuauszug und Depotauszug. Hast du eine spezifische Frage, mit der wir beginnen sollen? </p>']\n",
      "successful: 12, failed: 0\n"
     ]
    }
   ],
   "source": [
    "# Amount of instances to be created\n",
    "number_of_instances = 12\n",
    "\n",
    "# Change the following to a list of hardcoded instance IDs if you want to use existing users.\n",
    "user_ids = [str(uuid.uuid4()) for _ in range(number_of_instances - 1)]\n",
    "\n",
    "c  = 1 # counter for successful requests, don't change\n",
    "error_c = 0 # counter for failed requests, don't change\n",
    "for user_id in user_ids:\n",
    "    bot = Chatbot(\n",
    "        database_file=\"database/chatbot.db\", \n",
    "        type_id=\"db4dfab7-0cf9-4916-adb2-5fdafb038070\",\n",
    "        user_id=user_id,\n",
    "        instance_context=bot_instance,\n",
    "        instance_starter=bot_starter\n",
    "    )\n",
    "    try:\n",
    "        # each bot should have a first message to the user\n",
    "        print(bot.start())\n",
    "    except RuntimeError as error:\n",
    "        print(error)\n",
    "        error_c += 1\n",
    "        continue\n",
    "    c+=1\n",
    "    time.sleep(15) #openai seems to produce more errors if we send the requests too fast.\n",
    "    \n",
    "print(\"successful: {}, failed: {}\".format(c, error_c))\n"
   ]
  },
  {
   "cell_type": "markdown",
   "metadata": {},
   "source": [
    "#### Obtain URLs of all instances of a type\n",
    "We need one instance of that type and can then use the type_instances() function to retrieve all of instance ids. Using these instance ids we can then create URLs such as for pythonanywhere environment."
   ]
  },
  {
   "cell_type": "code",
   "execution_count": 7,
   "metadata": {},
   "outputs": [
    {
     "name": "stdout",
     "output_type": "stream",
     "text": [
      "https://a4e5bcd8.pythonanywhere.com/db4dfab7-0cf9-4916-adb2-5fdafb038070/1fdba4b7-00d2-4e58-a9f4-268fee3df040/chat\n",
      "https://a4e5bcd8.pythonanywhere.com/db4dfab7-0cf9-4916-adb2-5fdafb038070/4b76f620-a51c-473b-a56f-a90fa51b6d8a/chat\n",
      "https://a4e5bcd8.pythonanywhere.com/db4dfab7-0cf9-4916-adb2-5fdafb038070/5d16b235-c899-4d89-b8e7-19737c20cf77/chat\n",
      "https://a4e5bcd8.pythonanywhere.com/db4dfab7-0cf9-4916-adb2-5fdafb038070/7dd76b75-1e91-4d93-9e20-edf1ac74a130/chat\n",
      "https://a4e5bcd8.pythonanywhere.com/db4dfab7-0cf9-4916-adb2-5fdafb038070/82ae84ab-2ed8-4d7e-8a0a-1ca06f2d2118/chat\n",
      "https://a4e5bcd8.pythonanywhere.com/db4dfab7-0cf9-4916-adb2-5fdafb038070/880b1a27-a973-497f-a9e2-73a38d414404/chat\n",
      "https://a4e5bcd8.pythonanywhere.com/db4dfab7-0cf9-4916-adb2-5fdafb038070/91a0426f-1a7c-48a3-9cc2-866b74495e02/chat\n",
      "https://a4e5bcd8.pythonanywhere.com/db4dfab7-0cf9-4916-adb2-5fdafb038070/98da4918-3b00-4d4e-bcbf-e023f6b168e2/chat\n",
      "https://a4e5bcd8.pythonanywhere.com/db4dfab7-0cf9-4916-adb2-5fdafb038070/a25782af-ccfa-4912-9234-e8ff3ef94ef2/chat\n",
      "https://a4e5bcd8.pythonanywhere.com/db4dfab7-0cf9-4916-adb2-5fdafb038070/e678ee85-8ecc-42fc-94ec-013f37ac83db/chat\n",
      "https://a4e5bcd8.pythonanywhere.com/db4dfab7-0cf9-4916-adb2-5fdafb038070/e8950cdc-4d5a-4412-b3f1-f9f7357609b7/chat\n",
      "https://a4e5bcd8.pythonanywhere.com/db4dfab7-0cf9-4916-adb2-5fdafb038070/e8e16521-6ddb-4a83-93bf-f5f523c55ef7/chat\n"
     ]
    }
   ],
   "source": [
    "pythonanywhere_username = \"a4e5bcd8\"\n",
    "type_id = \"db4dfab7-0cf9-4916-adb2-5fdafb038070\"\n",
    "bot = Chatbot(\n",
    "    database_file=\"database/chatbot.db\", \n",
    "    type_id=type_id,\n",
    "    user_id=user_ids[0]\n",
    ")\n",
    "\n",
    "for user_id in bot.type_instances():\n",
    "    print(\"https://{}.pythonanywhere.com/{}/{}/chat\".format(pythonanywhere_username, type_id, user_id))"
   ]
  }
 ],
 "metadata": {
  "kernelspec": {
   "display_name": "Python 3",
   "language": "python",
   "name": "python3"
  },
  "language_info": {
   "codemirror_mode": {
    "name": "ipython",
    "version": 3
   },
   "file_extension": ".py",
   "mimetype": "text/x-python",
   "name": "python",
   "nbconvert_exporter": "python",
   "pygments_lexer": "ipython3",
   "version": "3.11.6"
  },
  "orig_nbformat": 4
 },
 "nbformat": 4,
 "nbformat_minor": 2
}
