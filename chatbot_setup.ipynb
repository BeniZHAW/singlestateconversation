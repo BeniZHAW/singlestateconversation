{
 "cells": [
  {
   "attachments": {},
   "cell_type": "markdown",
   "metadata": {},
   "source": [
    "## A Chatbot using GPT and a Database\n",
    "This allows multiple chatbot types (e.g. a health coach and a learning assistant) to be created. Multiple chatbot instances can be created per chatbot type (e.g. for User X and User Y). Both, type and instance are stored and referenced with an ID (e.g. with a UUID) in the database.\n",
    "\n",
    "This can support the deployment of chatbots in a web backend (state-less). For example, the UUIDs of the type and instance can be read as URL parameters from a URL that users have received from you.\n",
    "\n",
    "A chatbot is created with the following arguments.\n",
    "- database_file: File of SQLite (in Folder data/)\n",
    "- type_id: Reference to chatbot type\n",
    "- instance_id: Reference to chatbot instance (typically one per user - however, may also be shared by multiple users)\n",
    "- type_role: Role of chatbot type (will be turned into a first prompt with role:system)\n",
    "- instance_context: Context of chatbot instance (will be turned into a second prompt with role:system)\n",
    "- instance_starter: Will be used to generate an initial message to the user (will be turned into a final prompt with role:system)"
   ]
  },
  {
   "cell_type": "markdown",
   "metadata": {},
   "source": [
    "#### OpenAI API Key and Model\n",
    "\n",
    "Rename the file chatbot/openai_template.py to openai.py and set the keys\n",
    "    OPENAI_KEY = \"your OpenAI API key\"\\\n",
    "    OPENAI_MODEL = \"gpt-3.5-turbo-16k\"\\"
   ]
  },
  {
   "cell_type": "code",
   "execution_count": null,
   "metadata": {},
   "outputs": [],
   "source": [
    "%pip install openai"
   ]
  },
  {
   "cell_type": "markdown",
   "metadata": {},
   "source": [
    "#### Import chatbot library"
   ]
  },
  {
   "cell_type": "code",
   "execution_count": 1,
   "metadata": {},
   "outputs": [],
   "source": [
    "from chatbot.chatbot import Chatbot"
   ]
  },
  {
   "attachments": {},
   "cell_type": "markdown",
   "metadata": {},
   "source": [
    "#### Create a chatbot \"Puzzle Workshop\" for user X"
   ]
  },
  {
   "attachments": {},
   "cell_type": "markdown",
   "metadata": {},
   "source": [
    "URL to be handed out to the user: If you are following the instructions to deploy your chatbot(s) to pythonanywhere, this is the URL to access your chatbot.\n",
    "\n",
    "##### Generic URL\n",
    "https://[your pythonanywhere user name].pythonanywhere.com/[type id]/[user_id]/chat\n",
    "##### For Example\n",
    "https://monkey23.pythonanywhere.com/053e97a0-6a91-4589-8602-340aa47b6376/7515865e-4097-4dd7-9567-d3c7a4c1ed07/chat"
   ]
  },
  {
   "cell_type": "markdown",
   "metadata": {},
   "source": [
    "#### Prompt Engineering\n",
    "Before we create our bot and store it in the dabase, we can edit the prompts and customise our bot or just use the once as prepared below.\n",
    "\n",
    "##### type_role\n",
    "Describes the general role of the chatbot.\n",
    "    - What kind of persona should it enact/imitate. \n",
    "    - What is the context it acts in\n",
    "    - What is the goal of the conversation.\n",
    "    \n",
    "This prompt will be turned into a first prompt with role:system"
   ]
  },
  {
   "cell_type": "code",
   "execution_count": 6,
   "metadata": {},
   "outputs": [],
   "source": [
    "type_role = \"\"\"\n",
    "Puzzle-Workshop\n",
    "\n",
    "Du bist ein Gastgeber eines Puzzle-Lösungs-Workshops. Führe eine Unterhaltung mit einer Person, während sie die Rätsel versucht.\n",
    "\n",
    "Regeln:\n",
    "- Bleibe beim Thema.\n",
    "- Gib niemals die Antworten preis.\n",
    "- Lobe richtige Antworten und weise auf falsche hin.\n",
    "\n",
    "Rätsel:\n",
    "- Game & In-App-Kauf: CHF 33. Game: CHF 30 mehr als In-App-Kauf. Preis vom Game?\n",
    "- 3 Ärzte brauchen 3 Minuten um 3 Patienten zu impfen. Wie lange für 7 Ärzte, 7 Patienten?\n",
    "- Handyakku halbiert sich jährlich. 1 Stunde im Jahr 7. Wann war es doppelt so viel?\n",
    "\n",
    "Lösungen (zur Überprüfung, nicht zur Offenlegung):\n",
    "1. CHF 31.50 (CHF 31.50 und CHF 1.50 ergeben CHF 33, während der Unterschied CHF 30 beträgt).\n",
    "2. 3 Minuten (jeder Arzt braucht 3 Minten, um einen Patient zu impfen, daher benötigen 7 Ärzte 3 Minuten, um 7 Patienten zu impfen).\n",
    "3. Jahr 6 (Akkulaufzeit betrug 2 Stunden, halbiert auf 1 Stunde im Jahr 7).\n",
    "\n",
    "Interaktionsmöglichkeiten:\n",
    "1. Workshop-Info\n",
    "2. Ein Rätsel erhalten\n",
    "3. Hilfe nach 2 falschen Versuchen.\n",
    "4. Leistungsbeurteilung wenn alle Rätsel gelöst.\n",
    "\"\"\""
   ]
  },
  {
   "cell_type": "markdown",
   "metadata": {},
   "source": [
    "##### instance_context \n",
    "Defines the context, in which the chatbot acts.\n",
    "- Define how the answers of the chatbot should be formatted (here we added some html for the frontend)\n",
    "- Define how the chatbot should be answering to the user\n",
    "\n",
    "\n",
    "It will be turned into a second prompt with role:system."
   ]
  },
  {
   "cell_type": "code",
   "execution_count": null,
   "metadata": {},
   "outputs": [],
   "source": [
    "instance_context = \"\"\"\n",
    "<p>Bei Antworten:</p>\n",
    "<ol>\n",
    "    <li>Emojis immer dann einbinden, wenn es passt. 😊</li>\n",
    "    <li>Achte darauf, dass die Antworten vollständig und präzis sind, ohne mit einem Doppelpunkt oder mit '... folgendes:' zu enden.</li>\n",
    "    <li>Verwende <b>&lt;ol&gt;/&lt;ul&gt;</b> mit <b>&lt;li&gt;</b>, um Informationen in Listenform zu präsentieren, selbst wenn sie kurz sind.</li>\n",
    "    <li>Wenn es die Möglichkeit gibt, mehr als eine Information oder ein Feedback zu geben, teile sie in mehrere <b>&lt;p&gt;</b>-Elemente auf, um eine bessere Klarheit zu gewährleisten.</li>\n",
    "    <li>Formatiere alle Antworten immer mit gültigem HTML: z.B. <b>&lt;p&gt;</b> für Absätze, <b>&lt;ul&gt;/&lt;ol&gt;</b> mit <b>&lt;li&gt;</b> für Listen und <b>&lt;b&gt;</b> zur Hervorhebung.</li>\n",
    "    <li>Halte einen nihilistischen humorvollen Ton bei. Halte es kurz, aber opfere nicht die Klarheit für Kürze.</li>\n",
    "</ol>\n",
    "\"\"\""
   ]
  },
  {
   "cell_type": "markdown",
   "metadata": {},
   "source": [
    "##### instance_starter\n",
    "\n",
    "Will be used to generate an initial message to the user\n",
    "- what should the chatbot start the conversation with\n",
    "- ideally describe how the conversation shall continue after --> creates a more natural opening.\n",
    "\n",
    "Will be turned into a final prompt with role:system"
   ]
  },
  {
   "cell_type": "code",
   "execution_count": 1,
   "metadata": {},
   "outputs": [],
   "source": [
    "\n",
    "instance_starter = \"\"\"\n",
    "Jetzt, frage nach dem Namen und einem persönlichen Detail (z.B. Hobby, Beruf, Lebenserfahrung).\n",
    "Verwende diese im geschlechtsneutralem Gespräch in Du-Form.\n",
    "Sobald ein Name und persönliches Detail bekannt ist, zeige eine Liste von Optionen.\n",
    "\"\"\""
   ]
  },
  {
   "attachments": {},
   "cell_type": "markdown",
   "metadata": {},
   "source": [
    "#### Creating multiple instances of chatbot \"Coach\"\n",
    "In the following, we can either create a bot for one user or for n users. Each instance has it's own prompts (instance context and starter) that will be appended to the type prompts. Most importantly, each instance has its own chat history."
   ]
  },
  {
   "cell_type": "code",
   "execution_count": null,
   "metadata": {},
   "outputs": [],
   "source": [
    "import uuid\n",
    "import time"
   ]
  },
  {
   "cell_type": "markdown",
   "metadata": {},
   "source": [
    "If you want to create more than one instance, change `number_of_instances`"
   ]
  },
  {
   "cell_type": "code",
   "execution_count": null,
   "metadata": {},
   "outputs": [],
   "source": [
    "# Amount of instances to be created\n",
    "number_of_instances = 1\n",
    "\n",
    "# Change the following to a list of hardcoded instance IDs if you want to use existing users.\n",
    "user_ids = [str(uuid.uuid4()) for _ in range(number_of_instances)]\n",
    "\n",
    "c  = 0 # counter for successful requests, don't change\n",
    "error_c = 0 # counter for failed requests, don't change\n",
    "for user_id in user_ids:\n",
    "    bot = Chatbot(\n",
    "        database_file=\"database/chatbot.db\", \n",
    "        type_id=\"4b9e7b25-08d7-4031-b485-4741ecd48dd1\",\n",
    "        user_id=user_id,\n",
    "        type_name = \"PuzzleBot\",\n",
    "        type_role = type_role,\n",
    "        instance_context=instance_context,\n",
    "        instance_starter=instance_starter\n",
    "    )\n",
    "    try:\n",
    "        # each bot should have a first message to the user\n",
    "        print(bot.start())\n",
    "    except:\n",
    "        error_c += 1\n",
    "        continue\n",
    "    c+=1\n",
    "    time.sleep(15) #openai seems to produce more errors if we send the requests too fast.\n",
    "    \n",
    "print(\"successful: {}, failed: {}\".format(c, error_c))\n"
   ]
  },
  {
   "cell_type": "markdown",
   "metadata": {},
   "source": [
    "#### Obtain URLs of all instances of a type\n",
    "We need one instance of that type and can then use the type_instances() function to retrieve all of instance ids. Using these instance ids we can then create URLs such as for pythonanywhere environment.\n",
    "\n",
    "- Enter your pythonanywhere username in the placeholder below.\n",
    "- Change the type_id if you changed it above."
   ]
  },
  {
   "cell_type": "code",
   "execution_count": null,
   "metadata": {},
   "outputs": [],
   "source": [
    "pythonanywhere_username = \"<ENTER YOUR PYTHONANYWHERE USERNAME HERE>\"\n",
    "type_id = \"44b9e7b25-08d7-4031-b485-4741ecd48dd1\"\n",
    "bot = Chatbot(\n",
    "    database_file=\"database/chatbot.db\", \n",
    "    type_id=type_id,\n",
    "    user_id=user_ids[0]\n",
    ")\n",
    "\n",
    "for user_id in bot.type_instances():\n",
    "    print(\"https://{}.pythonanywhere.com/{}/{}/chat\".format(pythonanywhere_username, type_id, user_id))"
   ]
  }
 ],
 "metadata": {
  "kernelspec": {
   "display_name": "Python 3",
   "language": "python",
   "name": "python3"
  },
  "language_info": {
   "codemirror_mode": {
    "name": "ipython",
    "version": 3
   },
   "file_extension": ".py",
   "mimetype": "text/x-python",
   "name": "python",
   "nbconvert_exporter": "python",
   "pygments_lexer": "ipython3",
   "version": "3.11.4"
  },
  "orig_nbformat": 4
 },
 "nbformat": 4,
 "nbformat_minor": 2
}
