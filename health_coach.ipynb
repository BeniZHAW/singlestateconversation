{
 "cells": [
  {
   "cell_type": "code",
   "execution_count": null,
   "metadata": {},
   "outputs": [],
   "source": [
    "import os\n",
    "import openai\n",
    "openai.api_key = \"...\""
   ]
  },
  {
   "attachments": {},
   "cell_type": "markdown",
   "metadata": {},
   "source": [
    "### The Generic GPT"
   ]
  },
  {
   "cell_type": "code",
   "execution_count": null,
   "metadata": {},
   "outputs": [],
   "source": [
    "messages = []\n",
    "\n",
    "def chatbot(input):\n",
    "    if input:\n",
    "        messages.append({\"role\": \"user\", \"content\": input})\n",
    "        chat = openai.ChatCompletion.create(\n",
    "            model=\"gpt-3.5-turbo\", messages=messages\n",
    "        )\n",
    "        reply = chat.choices[0].message.content\n",
    "        messages.append({\"role\": \"assistant\", \"content\": reply})\n",
    "        return reply"
   ]
  },
  {
   "attachments": {},
   "cell_type": "markdown",
   "metadata": {},
   "source": [
    "### Specification of Role as Coach"
   ]
  },
  {
   "cell_type": "code",
   "execution_count": null,
   "metadata": {},
   "outputs": [],
   "source": [
    "messages.append(\n",
    "    {\"role\": \"system\", \"content\": '''\n",
    "    Du bist ein Coach, der Patienten dabei hilft, ihren Therapieplan\n",
    "    umzusetzen.\n",
    "    Im Therapieplan stehen Massnahmen, welche von den Patienten umgesetzt\n",
    "    werden sollen.\n",
    "    Wenn Dir gesagt wird, dass eine Massnahme nicht ausgeführt wurde,\n",
    "    erzeugst Du Fragen. Das Ziel dieser Fragen ist es, herauszufinden,\n",
    "    weshalb die Patienten die Massnahme nicht umgesetzt haben.\n",
    "    Du bist respektvoll, freundlich, wohlwollend und verständnisvoll.\n",
    "    '''}\n",
    ")"
   ]
  },
  {
   "attachments": {},
   "cell_type": "markdown",
   "metadata": {},
   "source": [
    "### Specification of Specific Patient"
   ]
  },
  {
   "cell_type": "code",
   "execution_count": null,
   "metadata": {},
   "outputs": [],
   "source": [
    "messages.append(\n",
    "    {\"role\": \"system\", \"content\": '''\n",
    "    Alexandre de Spindler ist 50 Jahre alt und sein BMI ist 27. Sein\n",
    "    Therapieplan enthält folgende Massnahmen.\n",
    "    Intervallfasten: Täglich nach dem Aufstehen bis 13:00 essen, den\n",
    "    Rest vom Tag nicht mehr.\n",
    "    Schwimmen: Montags, Donnerstags und Samstags, jeweils abends eine\n",
    "    Stunde schwimmen. \n",
    "    '''}\n",
    ")"
   ]
  },
  {
   "attachments": {},
   "cell_type": "markdown",
   "metadata": {},
   "source": [
    "### Obtain Prompt to User"
   ]
  },
  {
   "cell_type": "code",
   "execution_count": null,
   "metadata": {},
   "outputs": [],
   "source": [
    "context_for_system = '''\n",
    "    Es ist Freitagmorgen. Alexandre de Spindler ist am Donnerstagabend nicht\n",
    "    schwimmen gegangen.\n",
    "'''\n",
    "task_of_system = '''\n",
    "    Erstelle eine Frage, um herauszufinden, weshalb Alexandre de Spindler\n",
    "    nicht schwimmen gegangen ist?\n",
    "'''\n",
    "prompt_to_system = context_for_system + task_of_system\n",
    "prompt_to_user = chatbot(prompt_to_system)\n",
    "\n",
    "print(prompt_to_user)"
   ]
  },
  {
   "attachments": {},
   "cell_type": "markdown",
   "metadata": {},
   "source": [
    "Example output from GPT\n",
    ">Hey Alexandre, magst du mir mehr darüber erzählen, warum du am gestrigen Abend nicht schwimmen gegangen bist?"
   ]
  },
  {
   "attachments": {},
   "cell_type": "markdown",
   "metadata": {},
   "source": [
    "### Provide response from user and obtain next prompt to user"
   ]
  },
  {
   "cell_type": "code",
   "execution_count": null,
   "metadata": {},
   "outputs": [],
   "source": [
    "response_from_user = '''\n",
    "    Ich hatte mich nicht wohl gefühlt.\n",
    "'''\n",
    "context_for_system = '''\n",
    "    Alexandre de Spindler hat diese Frage wie folgt beantwortet.\n",
    "'''\n",
    "task_of_system = '''\n",
    "    Erstelle eine Frage, um mehr darüber herauszufinden, weshalb\n",
    "    er die Massnahme nicht umgesetzt hat.\n",
    "'''\n",
    "prompt_to_system = context_for_system + response_from_user +  task_of_system\n",
    "prompt_to_user = chatbot(prompt_to_system)\n",
    "\n",
    "print(prompt_to_user)"
   ]
  },
  {
   "attachments": {},
   "cell_type": "markdown",
   "metadata": {},
   "source": [
    "Example output from GPT\n",
    ">Das verstehe ich. Kannst du mir mehr darüber erzählen, welche Art von Unwohlsein dies verursacht hat und ob es langfristige Auswirkungen auf deine Fähigkeit hat, deine Ziele in diesem Therapieplan zu erreichen?"
   ]
  }
 ],
 "metadata": {
  "kernelspec": {
   "display_name": "Python 3",
   "language": "python",
   "name": "python3"
  },
  "language_info": {
   "codemirror_mode": {
    "name": "ipython",
    "version": 3
   },
   "file_extension": ".py",
   "mimetype": "text/x-python",
   "name": "python",
   "nbconvert_exporter": "python",
   "pygments_lexer": "ipython3",
   "version": "3.10.10"
  },
  "orig_nbformat": 4
 },
 "nbformat": 4,
 "nbformat_minor": 2
}
